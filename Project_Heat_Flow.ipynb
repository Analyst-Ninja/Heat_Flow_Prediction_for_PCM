{
  "nbformat": 4,
  "nbformat_minor": 0,
  "metadata": {
    "colab": {
      "name": "Muthya's_Project_Heat Flow.ipynb",
      "provenance": []
    },
    "kernelspec": {
      "name": "python3",
      "display_name": "Python 3"
    },
    "language_info": {
      "name": "python"
    }
  },
  "cells": [
    {
      "cell_type": "markdown",
      "source": [
        "Importing the basic dependencies"
      ],
      "metadata": {
        "id": "cFsMjdUdnAvN"
      }
    },
    {
      "cell_type": "code",
      "execution_count": null,
      "metadata": {
        "id": "GoNCrZmrm5Eb"
      },
      "outputs": [],
      "source": [
        "import numpy as np\n",
        "import pandas as pd\n",
        "from matplotlib import pyplot as plt\n",
        "import seaborn as sns"
      ]
    },
    {
      "cell_type": "markdown",
      "source": [
        "Importing the Dataset"
      ],
      "metadata": {
        "id": "B1gSVY4onEcR"
      }
    },
    {
      "cell_type": "code",
      "source": [
        "dataset = pd.read_excel('/content/Heat Flow for Machine Learning.xlsx')"
      ],
      "metadata": {
        "id": "J7Wb7EnGnGcM"
      },
      "execution_count": null,
      "outputs": []
    },
    {
      "cell_type": "code",
      "source": [
        "dataset"
      ],
      "metadata": {
        "colab": {
          "base_uri": "https://localhost:8080/",
          "height": 572
        },
        "id": "0mXTuvMinTuG",
        "outputId": "30edf891-8925-4e7e-8dc3-8ba23bb48fa1"
      },
      "execution_count": null,
      "outputs": [
        {
          "output_type": "execute_result",
          "data": {
            "text/plain": [
              "             Type of PCM  Concentration of PCM (Wt.%)  \\\n",
              "0               Pure PCM                        100.0   \n",
              "1               Pure PCM                        100.0   \n",
              "2               Pure PCM                        100.0   \n",
              "3               Pure PCM                        100.0   \n",
              "4               Pure PCM                        100.0   \n",
              "...                  ...                          ...   \n",
              "14298  PCM Char 24 1 CNT                         75.0   \n",
              "14299  PCM Char 24 1 CNT                         75.0   \n",
              "14300  PCM Char 24 1 CNT                         75.0   \n",
              "14301  PCM Char 24 1 CNT                         75.0   \n",
              "14302  PCM Char 24 1 CNT                         75.0   \n",
              "\n",
              "       Concentraton of biochar(Wt.%)  Concentration of MWCNT(Wt.%)  \\\n",
              "0                                  0                           0.0   \n",
              "1                                  0                           0.0   \n",
              "2                                  0                           0.0   \n",
              "3                                  0                           0.0   \n",
              "4                                  0                           0.0   \n",
              "...                              ...                           ...   \n",
              "14298                             24                           1.0   \n",
              "14299                             24                           1.0   \n",
              "14300                             24                           1.0   \n",
              "14301                             24                           1.0   \n",
              "14302                             24                           1.0   \n",
              "\n",
              "       Heating rate (°C/min)   Temperature(°C)  Heat Flow (mW/mg)  \n",
              "0                         5.0         9.803695           3.289101  \n",
              "1                         5.0         9.644549           3.289108  \n",
              "2                         5.0         9.511142           3.289119  \n",
              "3                         5.0         9.400537           3.289126  \n",
              "4                         5.0         9.309975           3.289137  \n",
              "...                       ...              ...                ...  \n",
              "14298                    10.0        56.493496           3.599134  \n",
              "14299                    10.0        56.663461           3.599469  \n",
              "14300                    10.0        56.823427           3.599792  \n",
              "14301                    10.0        56.993397           3.600082  \n",
              "14302                    10.0        57.163366           3.600376  \n",
              "\n",
              "[14303 rows x 7 columns]"
            ],
            "text/html": [
              "\n",
              "  <div id=\"df-55bd7259-0b23-4d42-8ba2-780368dcda82\">\n",
              "    <div class=\"colab-df-container\">\n",
              "      <div>\n",
              "<style scoped>\n",
              "    .dataframe tbody tr th:only-of-type {\n",
              "        vertical-align: middle;\n",
              "    }\n",
              "\n",
              "    .dataframe tbody tr th {\n",
              "        vertical-align: top;\n",
              "    }\n",
              "\n",
              "    .dataframe thead th {\n",
              "        text-align: right;\n",
              "    }\n",
              "</style>\n",
              "<table border=\"1\" class=\"dataframe\">\n",
              "  <thead>\n",
              "    <tr style=\"text-align: right;\">\n",
              "      <th></th>\n",
              "      <th>Type of PCM</th>\n",
              "      <th>Concentration of PCM (Wt.%)</th>\n",
              "      <th>Concentraton of biochar(Wt.%)</th>\n",
              "      <th>Concentration of MWCNT(Wt.%)</th>\n",
              "      <th>Heating rate (°C/min)</th>\n",
              "      <th>Temperature(°C)</th>\n",
              "      <th>Heat Flow (mW/mg)</th>\n",
              "    </tr>\n",
              "  </thead>\n",
              "  <tbody>\n",
              "    <tr>\n",
              "      <th>0</th>\n",
              "      <td>Pure PCM</td>\n",
              "      <td>100.0</td>\n",
              "      <td>0</td>\n",
              "      <td>0.0</td>\n",
              "      <td>5.0</td>\n",
              "      <td>9.803695</td>\n",
              "      <td>3.289101</td>\n",
              "    </tr>\n",
              "    <tr>\n",
              "      <th>1</th>\n",
              "      <td>Pure PCM</td>\n",
              "      <td>100.0</td>\n",
              "      <td>0</td>\n",
              "      <td>0.0</td>\n",
              "      <td>5.0</td>\n",
              "      <td>9.644549</td>\n",
              "      <td>3.289108</td>\n",
              "    </tr>\n",
              "    <tr>\n",
              "      <th>2</th>\n",
              "      <td>Pure PCM</td>\n",
              "      <td>100.0</td>\n",
              "      <td>0</td>\n",
              "      <td>0.0</td>\n",
              "      <td>5.0</td>\n",
              "      <td>9.511142</td>\n",
              "      <td>3.289119</td>\n",
              "    </tr>\n",
              "    <tr>\n",
              "      <th>3</th>\n",
              "      <td>Pure PCM</td>\n",
              "      <td>100.0</td>\n",
              "      <td>0</td>\n",
              "      <td>0.0</td>\n",
              "      <td>5.0</td>\n",
              "      <td>9.400537</td>\n",
              "      <td>3.289126</td>\n",
              "    </tr>\n",
              "    <tr>\n",
              "      <th>4</th>\n",
              "      <td>Pure PCM</td>\n",
              "      <td>100.0</td>\n",
              "      <td>0</td>\n",
              "      <td>0.0</td>\n",
              "      <td>5.0</td>\n",
              "      <td>9.309975</td>\n",
              "      <td>3.289137</td>\n",
              "    </tr>\n",
              "    <tr>\n",
              "      <th>...</th>\n",
              "      <td>...</td>\n",
              "      <td>...</td>\n",
              "      <td>...</td>\n",
              "      <td>...</td>\n",
              "      <td>...</td>\n",
              "      <td>...</td>\n",
              "      <td>...</td>\n",
              "    </tr>\n",
              "    <tr>\n",
              "      <th>14298</th>\n",
              "      <td>PCM Char 24 1 CNT</td>\n",
              "      <td>75.0</td>\n",
              "      <td>24</td>\n",
              "      <td>1.0</td>\n",
              "      <td>10.0</td>\n",
              "      <td>56.493496</td>\n",
              "      <td>3.599134</td>\n",
              "    </tr>\n",
              "    <tr>\n",
              "      <th>14299</th>\n",
              "      <td>PCM Char 24 1 CNT</td>\n",
              "      <td>75.0</td>\n",
              "      <td>24</td>\n",
              "      <td>1.0</td>\n",
              "      <td>10.0</td>\n",
              "      <td>56.663461</td>\n",
              "      <td>3.599469</td>\n",
              "    </tr>\n",
              "    <tr>\n",
              "      <th>14300</th>\n",
              "      <td>PCM Char 24 1 CNT</td>\n",
              "      <td>75.0</td>\n",
              "      <td>24</td>\n",
              "      <td>1.0</td>\n",
              "      <td>10.0</td>\n",
              "      <td>56.823427</td>\n",
              "      <td>3.599792</td>\n",
              "    </tr>\n",
              "    <tr>\n",
              "      <th>14301</th>\n",
              "      <td>PCM Char 24 1 CNT</td>\n",
              "      <td>75.0</td>\n",
              "      <td>24</td>\n",
              "      <td>1.0</td>\n",
              "      <td>10.0</td>\n",
              "      <td>56.993397</td>\n",
              "      <td>3.600082</td>\n",
              "    </tr>\n",
              "    <tr>\n",
              "      <th>14302</th>\n",
              "      <td>PCM Char 24 1 CNT</td>\n",
              "      <td>75.0</td>\n",
              "      <td>24</td>\n",
              "      <td>1.0</td>\n",
              "      <td>10.0</td>\n",
              "      <td>57.163366</td>\n",
              "      <td>3.600376</td>\n",
              "    </tr>\n",
              "  </tbody>\n",
              "</table>\n",
              "<p>14303 rows × 7 columns</p>\n",
              "</div>\n",
              "      <button class=\"colab-df-convert\" onclick=\"convertToInteractive('df-55bd7259-0b23-4d42-8ba2-780368dcda82')\"\n",
              "              title=\"Convert this dataframe to an interactive table.\"\n",
              "              style=\"display:none;\">\n",
              "        \n",
              "  <svg xmlns=\"http://www.w3.org/2000/svg\" height=\"24px\"viewBox=\"0 0 24 24\"\n",
              "       width=\"24px\">\n",
              "    <path d=\"M0 0h24v24H0V0z\" fill=\"none\"/>\n",
              "    <path d=\"M18.56 5.44l.94 2.06.94-2.06 2.06-.94-2.06-.94-.94-2.06-.94 2.06-2.06.94zm-11 1L8.5 8.5l.94-2.06 2.06-.94-2.06-.94L8.5 2.5l-.94 2.06-2.06.94zm10 10l.94 2.06.94-2.06 2.06-.94-2.06-.94-.94-2.06-.94 2.06-2.06.94z\"/><path d=\"M17.41 7.96l-1.37-1.37c-.4-.4-.92-.59-1.43-.59-.52 0-1.04.2-1.43.59L10.3 9.45l-7.72 7.72c-.78.78-.78 2.05 0 2.83L4 21.41c.39.39.9.59 1.41.59.51 0 1.02-.2 1.41-.59l7.78-7.78 2.81-2.81c.8-.78.8-2.07 0-2.86zM5.41 20L4 18.59l7.72-7.72 1.47 1.35L5.41 20z\"/>\n",
              "  </svg>\n",
              "      </button>\n",
              "      \n",
              "  <style>\n",
              "    .colab-df-container {\n",
              "      display:flex;\n",
              "      flex-wrap:wrap;\n",
              "      gap: 12px;\n",
              "    }\n",
              "\n",
              "    .colab-df-convert {\n",
              "      background-color: #E8F0FE;\n",
              "      border: none;\n",
              "      border-radius: 50%;\n",
              "      cursor: pointer;\n",
              "      display: none;\n",
              "      fill: #1967D2;\n",
              "      height: 32px;\n",
              "      padding: 0 0 0 0;\n",
              "      width: 32px;\n",
              "    }\n",
              "\n",
              "    .colab-df-convert:hover {\n",
              "      background-color: #E2EBFA;\n",
              "      box-shadow: 0px 1px 2px rgba(60, 64, 67, 0.3), 0px 1px 3px 1px rgba(60, 64, 67, 0.15);\n",
              "      fill: #174EA6;\n",
              "    }\n",
              "\n",
              "    [theme=dark] .colab-df-convert {\n",
              "      background-color: #3B4455;\n",
              "      fill: #D2E3FC;\n",
              "    }\n",
              "\n",
              "    [theme=dark] .colab-df-convert:hover {\n",
              "      background-color: #434B5C;\n",
              "      box-shadow: 0px 1px 3px 1px rgba(0, 0, 0, 0.15);\n",
              "      filter: drop-shadow(0px 1px 2px rgba(0, 0, 0, 0.3));\n",
              "      fill: #FFFFFF;\n",
              "    }\n",
              "  </style>\n",
              "\n",
              "      <script>\n",
              "        const buttonEl =\n",
              "          document.querySelector('#df-55bd7259-0b23-4d42-8ba2-780368dcda82 button.colab-df-convert');\n",
              "        buttonEl.style.display =\n",
              "          google.colab.kernel.accessAllowed ? 'block' : 'none';\n",
              "\n",
              "        async function convertToInteractive(key) {\n",
              "          const element = document.querySelector('#df-55bd7259-0b23-4d42-8ba2-780368dcda82');\n",
              "          const dataTable =\n",
              "            await google.colab.kernel.invokeFunction('convertToInteractive',\n",
              "                                                     [key], {});\n",
              "          if (!dataTable) return;\n",
              "\n",
              "          const docLinkHtml = 'Like what you see? Visit the ' +\n",
              "            '<a target=\"_blank\" href=https://colab.research.google.com/notebooks/data_table.ipynb>data table notebook</a>'\n",
              "            + ' to learn more about interactive tables.';\n",
              "          element.innerHTML = '';\n",
              "          dataTable['output_type'] = 'display_data';\n",
              "          await google.colab.output.renderOutput(dataTable, element);\n",
              "          const docLink = document.createElement('div');\n",
              "          docLink.innerHTML = docLinkHtml;\n",
              "          element.appendChild(docLink);\n",
              "        }\n",
              "      </script>\n",
              "    </div>\n",
              "  </div>\n",
              "  "
            ]
          },
          "metadata": {},
          "execution_count": 3
        }
      ]
    },
    {
      "cell_type": "code",
      "source": [
        "corr = dataset.corr()\n",
        "sns.heatmap(corr, annot = True)"
      ],
      "metadata": {
        "colab": {
          "base_uri": "https://localhost:8080/",
          "height": 436
        },
        "id": "FPEL9Kxemlr9",
        "outputId": "2336b3f7-35c9-4339-b7c4-a63483442a9f"
      },
      "execution_count": null,
      "outputs": [
        {
          "output_type": "execute_result",
          "data": {
            "text/plain": [
              "<matplotlib.axes._subplots.AxesSubplot at 0x7f013c6c3590>"
            ]
          },
          "metadata": {},
          "execution_count": 4
        },
        {
          "output_type": "display_data",
          "data": {
            "text/plain": [
              "<Figure size 432x288 with 2 Axes>"
            ],
            "image/png": "[encoded data removed]"
          },
          "metadata": {
            "needs_background": "light"
          }
        }
      ]
    },
    {
      "cell_type": "code",
      "source": [
        "sns.set(style=\"ticks\", color_codes=True)\n",
        "g = sns.pairplot(dataset)\n",
        "plt.show()"
      ],
      "metadata": {
        "colab": {
          "base_uri": "https://localhost:8080/",
          "height": 964
        },
        "id": "-uL9C2Y-nKr2",
        "outputId": "7e6bb01b-25d0-4e2a-88db-8313767a80c9"
      },
      "execution_count": null,
      "outputs": [
        {
          "output_type": "display_data",
          "data": {
            "text/plain": [
              "<Figure size 1080x1080 with 42 Axes>"
            ],
            "image/png": "[encoded data removed]"
          },
          "metadata": {}
        }
      ]
    },
    {
      "cell_type": "code",
      "source": [
        "x=dataset.iloc[:,1:-1].values\n",
        "y = dataset.iloc[:, -1].values"
      ],
      "metadata": {
        "id": "GwNZ-SQvnbaF"
      },
      "execution_count": null,
      "outputs": []
    },
    {
      "cell_type": "markdown",
      "source": [
        "Splitting the Dataset into training set & test set"
      ],
      "metadata": {
        "id": "56A3DuBhn2Dv"
      }
    },
    {
      "cell_type": "code",
      "source": [
        "from sklearn.model_selection import train_test_split\n",
        "x_train,x_test,y_train,y_test = train_test_split(x,y, test_size = 0.3 , random_state = 0)"
      ],
      "metadata": {
        "id": "OoxtNqr3n3A1"
      },
      "execution_count": null,
      "outputs": []
    },
    {
      "cell_type": "code",
      "source": [
        "x_train[0]"
      ],
      "metadata": {
        "colab": {
          "base_uri": "https://localhost:8080/"
        },
        "id": "9Rz32sCnn7dG",
        "outputId": "f3b1ba6e-151d-4117-9e84-5551b04a005e"
      },
      "execution_count": null,
      "outputs": [
        {
          "output_type": "execute_result",
          "data": {
            "text/plain": [
              "array([100.      ,   0.      ,   0.      ,  10.      ,  50.211764])"
            ]
          },
          "metadata": {},
          "execution_count": 13
        }
      ]
    },
    {
      "cell_type": "markdown",
      "source": [
        "Feature Scaling on independent variable"
      ],
      "metadata": {
        "id": "5Pj9OA10oAJL"
      }
    },
    {
      "cell_type": "code",
      "source": [
        "from sklearn.preprocessing import StandardScaler\n",
        "sc_x = StandardScaler()\n",
        "x_train = sc_x.fit_transform(x_train[:,:])\n",
        "x_test = sc_x.transform(x_test[:,:])"
      ],
      "metadata": {
        "id": "UzxgPKgFoB6G"
      },
      "execution_count": null,
      "outputs": []
    },
    {
      "cell_type": "code",
      "source": [
        "x_train"
      ],
      "metadata": {
        "colab": {
          "base_uri": "https://localhost:8080/"
        },
        "id": "MT57sialoHz4",
        "outputId": "16d18eaa-a9ea-4706-935b-193686ab8e2d"
      },
      "execution_count": null,
      "outputs": [
        {
          "output_type": "execute_result",
          "data": {
            "text/plain": [
              "array([[ 0.94119876, -0.94543248, -0.44281907,  1.53680124,  1.18337026],\n",
              "       [ 0.94119876, -0.94543248, -0.44281907,  0.28647993,  0.22433324],\n",
              "       [ 0.94119876, -0.94543248, -0.44281907, -0.96384138, -0.01426876],\n",
              "       ...,\n",
              "       [-0.77110478,  0.79874846, -0.44281907,  0.28647993, -0.51215421],\n",
              "       [-1.34187262,  1.38014211, -0.44281907, -0.96384138,  0.59217808],\n",
              "       [ 0.94119876, -0.94543248, -0.44281907, -0.96384138,  1.4551877 ]])"
            ]
          },
          "metadata": {},
          "execution_count": 15
        }
      ]
    },
    {
      "cell_type": "markdown",
      "source": [
        "Feature Scaling on dependent variable"
      ],
      "metadata": {
        "id": "pXa78GOsoMai"
      }
    },
    {
      "cell_type": "markdown",
      "source": [
        "Reshaping the Dependent Variable"
      ],
      "metadata": {
        "id": "s0BItlzxoQKu"
      }
    },
    {
      "cell_type": "code",
      "source": [
        "y_train = y_train.reshape(len(y_train),1)\n",
        "y_test = y_test.reshape(len(y_test),1)"
      ],
      "metadata": {
        "id": "UCarXLtwoIR9"
      },
      "execution_count": null,
      "outputs": []
    },
    {
      "cell_type": "code",
      "source": [
        "from sklearn.preprocessing import StandardScaler\n",
        "sc_y = StandardScaler()\n",
        "y_train = sc_y.fit_transform(y_train)\n",
        "y_test = sc_y.transform(y_test)"
      ],
      "metadata": {
        "id": "w8QL05o3oT5P"
      },
      "execution_count": null,
      "outputs": []
    },
    {
      "cell_type": "code",
      "source": [
        "dataset.info()"
      ],
      "metadata": {
        "colab": {
          "base_uri": "https://localhost:8080/"
        },
        "id": "3GBiHM-AzbDF",
        "outputId": "af4c0481-5d96-4cd6-974c-c08fd444f73e"
      },
      "execution_count": null,
      "outputs": [
        {
          "output_type": "stream",
          "name": "stdout",
          "text": [
            "<class 'pandas.core.frame.DataFrame'>\n",
            "RangeIndex: 14303 entries, 0 to 14302\n",
            "Data columns (total 7 columns):\n",
            " #   Column                         Non-Null Count  Dtype  \n",
            "---  ------                         --------------  -----  \n",
            " 0   Type of PCM                    14303 non-null  object \n",
            " 1   Concentration of PCM (Wt.%)    14303 non-null  float64\n",
            " 2   Concentraton of biochar(Wt.%)  14303 non-null  int64  \n",
            " 3   Concentration of MWCNT(Wt.%)   14303 non-null  float64\n",
            " 4   Heating rate (°C/min)          14303 non-null  float64\n",
            " 5   Temperature(°C)                14303 non-null  float64\n",
            " 6   Heat Flow (mW/mg)              14303 non-null  float64\n",
            "dtypes: float64(5), int64(1), object(1)\n",
            "memory usage: 782.3+ KB\n"
          ]
        }
      ]
    },
    {
      "cell_type": "markdown",
      "source": [
        "# Model Building"
      ],
      "metadata": {
        "id": "ilCibioHoWzK"
      }
    },
    {
      "cell_type": "markdown",
      "source": [
        "Polynomial Regression"
      ],
      "metadata": {
        "id": "JABFO_ntoj5Q"
      }
    },
    {
      "cell_type": "code",
      "source": [
        "from sklearn.preprocessing import PolynomialFeatures\n",
        "from sklearn.linear_model import LinearRegression\n",
        "poly_reg = PolynomialFeatures(degree = 9)\n",
        "x_poly_train = poly_reg.fit_transform(x_train)\n",
        "x_poly_test = poly_reg.fit_transform(x_test)\n",
        "lin_reg_2 = LinearRegression()\n",
        "lin_reg_2.fit(x_poly_train, y_train)"
      ],
      "metadata": {
        "colab": {
          "base_uri": "https://localhost:8080/"
        },
        "id": "D0S25ZIvoZgF",
        "outputId": "2b480219-3aac-4644-96fd-bc4df4a00686"
      },
      "execution_count": null,
      "outputs": [
        {
          "output_type": "execute_result",
          "data": {
            "text/plain": [
              "LinearRegression()"
            ]
          },
          "metadata": {},
          "execution_count": 14
        }
      ]
    },
    {
      "cell_type": "code",
      "source": [
        "y_pred = lin_reg_2.predict(x_poly_test)"
      ],
      "metadata": {
        "id": "hJFNSmOrottz"
      },
      "execution_count": null,
      "outputs": []
    },
    {
      "cell_type": "code",
      "source": [
        "y_pred = y_pred.reshape(len(y_pred),1)"
      ],
      "metadata": {
        "id": "8KGTA5FUovr5"
      },
      "execution_count": null,
      "outputs": []
    },
    {
      "cell_type": "code",
      "source": [
        "y_pred1 = sc_y.inverse_transform(y_pred)\n",
        "y_test1 = sc_y.inverse_transform(y_test)"
      ],
      "metadata": {
        "id": "6iBqOVndoyN2"
      },
      "execution_count": null,
      "outputs": []
    },
    {
      "cell_type": "code",
      "source": [
        "y_test1"
      ],
      "metadata": {
        "colab": {
          "base_uri": "https://localhost:8080/"
        },
        "id": "myD7VfK6o7EK",
        "outputId": "55d55c4b-ae46-40a2-ea8a-3c1a2016c021"
      },
      "execution_count": null,
      "outputs": [
        {
          "output_type": "execute_result",
          "data": {
            "text/plain": [
              "array([[4.87587308],\n",
              "       [8.66328123],\n",
              "       [3.38673793],\n",
              "       ...,\n",
              "       [3.43430555],\n",
              "       [3.17289407],\n",
              "       [2.95639204]])"
            ]
          },
          "metadata": {},
          "execution_count": 18
        }
      ]
    },
    {
      "cell_type": "code",
      "source": [
        "plt.scatter(y_test1,y_pred1)"
      ],
      "metadata": {
        "colab": {
          "base_uri": "https://localhost:8080/"
        },
        "id": "QdxvMxDDo1El",
        "outputId": "57678f04-4e48-4078-d9ee-1b7f44fdb577"
      },
      "execution_count": null,
      "outputs": [
        {
          "output_type": "execute_result",
          "data": {
            "text/plain": [
              "<matplotlib.collections.PathCollection at 0x7f7d57618410>"
            ]
          },
          "metadata": {},
          "execution_count": 19
        },
        {
          "output_type": "display_data",
          "data": {
            "text/plain": [
              "<Figure size 432x288 with 1 Axes>"
            ],
            "image/png": "[encoded data removed]"
          },
          "metadata": {}
        }
      ]
    },
    {
      "cell_type": "code",
      "source": [
        "from sklearn.metrics import r2_score,mean_squared_error\n",
        "from math import sqrt\n",
        "print(r2_score(y_test1, y_pred1))\n",
        "mse=mean_squared_error(y_test1,y_pred1)\n",
        "rsme=sqrt(mse)\n",
        "print(rsme)"
      ],
      "metadata": {
        "colab": {
          "base_uri": "https://localhost:8080/"
        },
        "id": "2g-pwdHJpS1W",
        "outputId": "8747d7aa-919f-498b-f53b-04e08f1f9d46"
      },
      "execution_count": null,
      "outputs": [
        {
          "output_type": "stream",
          "name": "stdout",
          "text": [
            "0.7229510300547131\n",
            "0.7050590128692198\n"
          ]
        }
      ]
    },
    {
      "cell_type": "code",
      "source": [
        "PLR_ytest = y_test1\n",
        "PLR_ypred = y_pred1"
      ],
      "metadata": {
        "id": "Ow8bWVwfpVu2"
      },
      "execution_count": null,
      "outputs": []
    },
    {
      "cell_type": "markdown",
      "source": [
        "Random Forest Regression"
      ],
      "metadata": {
        "id": "vBN9cQENpalA"
      }
    },
    {
      "cell_type": "code",
      "source": [
        "from sklearn.ensemble import RandomForestRegressor\n",
        "regressor = RandomForestRegressor(n_estimators = 1000, random_state = 0)\n",
        "regressor.fit(x_train,y_train)"
      ],
      "metadata": {
        "colab": {
          "base_uri": "https://localhost:8080/"
        },
        "id": "BZdMekZapYar",
        "outputId": "77c52009-8ee0-44ac-ad2a-112255661638"
      },
      "execution_count": null,
      "outputs": [
        {
          "output_type": "stream",
          "name": "stderr",
          "text": [
            "/usr/local/lib/python3.7/dist-packages/ipykernel_launcher.py:3: DataConversionWarning: A column-vector y was passed when a 1d array was expected. Please change the shape of y to (n_samples,), for example using ravel().\n",
            "  This is separate from the ipykernel package so we can avoid doing imports until\n"
          ]
        },
        {
          "output_type": "execute_result",
          "data": {
            "text/plain": [
              "RandomForestRegressor(n_estimators=1000, random_state=0)"
            ]
          },
          "metadata": {},
          "execution_count": 19
        }
      ]
    },
    {
      "cell_type": "code",
      "source": [
        "y_pred = regressor.predict(x_test)"
      ],
      "metadata": {
        "id": "xHr_rC11pf5p"
      },
      "execution_count": null,
      "outputs": []
    },
    {
      "cell_type": "code",
      "source": [
        "y_pred = y_pred.reshape(len(y_pred),1)"
      ],
      "metadata": {
        "id": "60ItMcXdphO4"
      },
      "execution_count": null,
      "outputs": []
    },
    {
      "cell_type": "code",
      "source": [
        "y_pred1 = sc_y.inverse_transform(y_pred)\n",
        "y_test1 = sc_y.inverse_transform(y_test)\n",
        "x_test1 = sc_x.inverse_transform(x_test)"
      ],
      "metadata": {
        "id": "ap3mNnKSpjGb"
      },
      "execution_count": null,
      "outputs": []
    },
    {
      "cell_type": "code",
      "source": [
        "plt.scatter(y_test1,y_pred1)"
      ],
      "metadata": {
        "colab": {
          "base_uri": "https://localhost:8080/",
          "height": 285
        },
        "id": "kjZtKVN7plw1",
        "outputId": "9692c358-78c5-48af-e25e-fb6d856e406e"
      },
      "execution_count": null,
      "outputs": [
        {
          "output_type": "execute_result",
          "data": {
            "text/plain": [
              "<matplotlib.collections.PathCollection at 0x7f013247bad0>"
            ]
          },
          "metadata": {},
          "execution_count": 23
        },
        {
          "output_type": "display_data",
          "data": {
            "text/plain": [
              "<Figure size 432x288 with 1 Axes>"
            ],
            "image/png": "[encoded data removed]"
          },
          "metadata": {}
        }
      ]
    },
    {
      "cell_type": "code",
      "source": [
        "from sklearn.metrics import r2_score,mean_squared_error\n",
        "from math import sqrt\n",
        "print(r2_score(y_test1, y_pred1))\n",
        "mse=mean_squared_error(y_test1,y_pred1)\n",
        "rsme=sqrt(mse)\n",
        "print(rsme)"
      ],
      "metadata": {
        "colab": {
          "base_uri": "https://localhost:8080/"
        },
        "id": "RLVB4BnmrGk9",
        "outputId": "c3a13905-7313-4fac-ffa1-4132fe995464"
      },
      "execution_count": null,
      "outputs": [
        {
          "output_type": "stream",
          "name": "stdout",
          "text": [
            "0.9943836403078071\n",
            "0.10038634811240786\n"
          ]
        }
      ]
    },
    {
      "cell_type": "code",
      "source": [
        "RFR_ytest = y_test1\n",
        "RFR_ypred = y_pred1\n",
        "RFR_xtest = x_test1"
      ],
      "metadata": {
        "id": "cviLU5XsrNhu"
      },
      "execution_count": null,
      "outputs": []
    },
    {
      "cell_type": "markdown",
      "source": [
        "Decision Tree Regression"
      ],
      "metadata": {
        "id": "KFxJ7tiGrP_z"
      }
    },
    {
      "cell_type": "code",
      "source": [
        "from sklearn.tree import DecisionTreeRegressor\n",
        "regressor = DecisionTreeRegressor(random_state = 0)\n",
        "regressor.fit(x_train,y_train)"
      ],
      "metadata": {
        "colab": {
          "base_uri": "https://localhost:8080/"
        },
        "id": "bZR-qKEUrVUs",
        "outputId": "6b9261e9-130a-4e40-b7a3-e298302edb28"
      },
      "execution_count": null,
      "outputs": [
        {
          "output_type": "execute_result",
          "data": {
            "text/plain": [
              "DecisionTreeRegressor(random_state=0)"
            ]
          },
          "metadata": {},
          "execution_count": 26
        }
      ]
    },
    {
      "cell_type": "code",
      "source": [
        "y_pred = regressor.predict(x_test)\n",
        "y_pred = y_pred.reshape(len(y_pred),1)\n",
        "y_pred1 = sc_y.inverse_transform(y_pred)\n",
        "y_test1 = sc_y.inverse_transform(y_test)"
      ],
      "metadata": {
        "id": "pcnArQLHrX2u"
      },
      "execution_count": null,
      "outputs": []
    },
    {
      "cell_type": "code",
      "source": [
        "plt.scatter(y_test1,y_pred1)"
      ],
      "metadata": {
        "colab": {
          "base_uri": "https://localhost:8080/",
          "height": 285
        },
        "id": "M9zvzm63rbjC",
        "outputId": "51702f50-4c99-4951-deaa-0c6e44091836"
      },
      "execution_count": null,
      "outputs": [
        {
          "output_type": "execute_result",
          "data": {
            "text/plain": [
              "<matplotlib.collections.PathCollection at 0x7f013241e210>"
            ]
          },
          "metadata": {},
          "execution_count": 28
        },
        {
          "output_type": "display_data",
          "data": {
            "text/plain": [
              "<Figure size 432x288 with 1 Axes>"
            ],
            "image/png": "[encoded data removed]"
          },
          "metadata": {}
        }
      ]
    },
    {
      "cell_type": "code",
      "source": [
        "from sklearn.metrics import r2_score,mean_squared_error\n",
        "from math import sqrt\n",
        "print(r2_score(y_test1, y_pred1))\n",
        "mse=mean_squared_error(y_test1,y_pred1)\n",
        "rsme=sqrt(mse)\n",
        "print(rsme)"
      ],
      "metadata": {
        "colab": {
          "base_uri": "https://localhost:8080/"
        },
        "id": "EBF0FoIQreeR",
        "outputId": "335431f5-a4f5-4db6-a6e4-7619aeb6718a"
      },
      "execution_count": null,
      "outputs": [
        {
          "output_type": "stream",
          "name": "stdout",
          "text": [
            "0.9892898771201496\n",
            "0.1386259149330675\n"
          ]
        }
      ]
    },
    {
      "cell_type": "code",
      "source": [
        "DTR_ytest = y_test1\n",
        "DTR_ypred = y_pred1\n",
        "DTR_xtest = x_test1"
      ],
      "metadata": {
        "id": "xESbNKHWrgqH"
      },
      "execution_count": null,
      "outputs": []
    },
    {
      "cell_type": "markdown",
      "source": [
        "K-NN Regressor"
      ],
      "metadata": {
        "id": "OgTeP1LLrkTA"
      }
    },
    {
      "cell_type": "code",
      "source": [
        "from sklearn.neighbors import KNeighborsRegressor\n",
        "regressor = KNeighborsRegressor(n_neighbors=11)\n",
        "regressor.fit(x_train,y_train)"
      ],
      "metadata": {
        "colab": {
          "base_uri": "https://localhost:8080/"
        },
        "id": "gNgHbMt-rk25",
        "outputId": "f3caac85-6426-4017-df20-c3b9a36509c3"
      },
      "execution_count": null,
      "outputs": [
        {
          "output_type": "execute_result",
          "data": {
            "text/plain": [
              "KNeighborsRegressor(n_neighbors=11)"
            ]
          },
          "metadata": {},
          "execution_count": 31
        }
      ]
    },
    {
      "cell_type": "code",
      "source": [
        "y_pred = regressor.predict(x_test)\n",
        "y_pred = y_pred.reshape(len(y_pred),1)\n",
        "y_pred1 = sc_y.inverse_transform(y_pred)\n",
        "y_test1 = sc_y.inverse_transform(y_test)"
      ],
      "metadata": {
        "id": "A0PSb6pfrmUr"
      },
      "execution_count": null,
      "outputs": []
    },
    {
      "cell_type": "code",
      "source": [
        "plt.scatter(y_test1,y_pred1)"
      ],
      "metadata": {
        "colab": {
          "base_uri": "https://localhost:8080/",
          "height": 285
        },
        "id": "gtpR0czhroO8",
        "outputId": "f4e187cb-cab6-4d98-db31-e6718925008e"
      },
      "execution_count": null,
      "outputs": [
        {
          "output_type": "execute_result",
          "data": {
            "text/plain": [
              "<matplotlib.collections.PathCollection at 0x7f013230dfd0>"
            ]
          },
          "metadata": {},
          "execution_count": 34
        },
        {
          "output_type": "display_data",
          "data": {
            "text/plain": [
              "<Figure size 432x288 with 1 Axes>"
            ],
            "image/png": "[encoded data removed]"
          },
          "metadata": {}
        }
      ]
    },
    {
      "cell_type": "code",
      "source": [
        "from sklearn.metrics import r2_score,mean_squared_error\n",
        "from math import sqrt\n",
        "print(r2_score(y_test1, y_pred1))\n",
        "mse=mean_squared_error(y_test1,y_pred1)\n",
        "rsme=sqrt(mse)\n",
        "print(rsme)"
      ],
      "metadata": {
        "colab": {
          "base_uri": "https://localhost:8080/"
        },
        "id": "nPfGbpiCrp1k",
        "outputId": "8abb6747-5124-40c9-d1bd-c5f8e0d738a0"
      },
      "execution_count": null,
      "outputs": [
        {
          "output_type": "stream",
          "name": "stdout",
          "text": [
            "0.9970003807229759\n",
            "0.07336353789713974\n"
          ]
        }
      ]
    },
    {
      "cell_type": "code",
      "source": [
        "kNNR_ytest = y_test1\n",
        "kNNR_ypred = y_pred1\n",
        "kNNR_xtest = x_test1"
      ],
      "metadata": {
        "id": "-UujPJXyrtkO"
      },
      "execution_count": null,
      "outputs": []
    },
    {
      "cell_type": "markdown",
      "source": [
        "SVM Regression"
      ],
      "metadata": {
        "id": "K1OFqNp4rzmx"
      }
    },
    {
      "cell_type": "code",
      "source": [
        "from sklearn.svm import SVR\n",
        "regressor = SVR(epsilon = 0.5)\n",
        "regressor.fit(x_train,y_train)"
      ],
      "metadata": {
        "colab": {
          "base_uri": "https://localhost:8080/"
        },
        "id": "1pkgEquory8O",
        "outputId": "29f3bb36-53aa-4cf7-d838-499ec1ce9182"
      },
      "execution_count": null,
      "outputs": [
        {
          "output_type": "stream",
          "name": "stderr",
          "text": [
            "/usr/local/lib/python3.7/dist-packages/sklearn/utils/validation.py:993: DataConversionWarning: A column-vector y was passed when a 1d array was expected. Please change the shape of y to (n_samples, ), for example using ravel().\n",
            "  y = column_or_1d(y, warn=True)\n"
          ]
        },
        {
          "output_type": "execute_result",
          "data": {
            "text/plain": [
              "SVR(epsilon=0.5)"
            ]
          },
          "metadata": {},
          "execution_count": 37
        }
      ]
    },
    {
      "cell_type": "code",
      "source": [
        "y_pred = regressor.predict(x_test)\n",
        "y_pred = y_pred.reshape(len(y_pred),1)\n",
        "y_pred1 = sc_y.inverse_transform(y_pred)\n",
        "y_test1 = sc_y.inverse_transform(y_test)"
      ],
      "metadata": {
        "id": "F1N2rfGor6ch"
      },
      "execution_count": null,
      "outputs": []
    },
    {
      "cell_type": "code",
      "source": [
        "plt.scatter(y_test1,y_pred1)"
      ],
      "metadata": {
        "colab": {
          "base_uri": "https://localhost:8080/",
          "height": 288
        },
        "id": "J8RMwg_Rr9Fh",
        "outputId": "527fb2c0-e26e-4693-e61e-39bc2b6bd4db"
      },
      "execution_count": null,
      "outputs": [
        {
          "output_type": "execute_result",
          "data": {
            "text/plain": [
              "<matplotlib.collections.PathCollection at 0x7f013223f190>"
            ]
          },
          "metadata": {},
          "execution_count": 39
        },
        {
          "output_type": "display_data",
          "data": {
            "text/plain": [
              "<Figure size 432x288 with 1 Axes>"
            ],
            "image/png": "[encoded data removed]"
          },
          "metadata": {}
        }
      ]
    },
    {
      "cell_type": "code",
      "source": [
        "from sklearn.metrics import r2_score,mean_squared_error\n",
        "from math import sqrt\n",
        "print(r2_score(y_test1, y_pred1))\n",
        "mse=mean_squared_error(y_test1,y_pred1)\n",
        "rsme=sqrt(mse)\n",
        "print(rsme)"
      ],
      "metadata": {
        "colab": {
          "base_uri": "https://localhost:8080/"
        },
        "id": "Fx0krNW4sG_H",
        "outputId": "7a62fc97-34f5-4c89-dbaf-9345c102c0ef"
      },
      "execution_count": null,
      "outputs": [
        {
          "output_type": "stream",
          "name": "stdout",
          "text": [
            "0.2884256320041634\n",
            "1.129945108833331\n"
          ]
        }
      ]
    },
    {
      "cell_type": "code",
      "source": [
        "SVR_ytest = y_test1\n",
        "SVR_ypred = y_pred1\n",
        "SVR_xtest = x_test1"
      ],
      "metadata": {
        "id": "C51vHRG6r9m3"
      },
      "execution_count": null,
      "outputs": []
    },
    {
      "cell_type": "markdown",
      "source": [
        "Linear Regression"
      ],
      "metadata": {
        "id": "SqqXG7UPsONc"
      }
    },
    {
      "cell_type": "code",
      "source": [
        "from sklearn.linear_model import LinearRegression\n",
        "regressor = LinearRegression()\n",
        "regressor.fit(x_train,y_train)"
      ],
      "metadata": {
        "colab": {
          "base_uri": "https://localhost:8080/"
        },
        "id": "SfqW_GcXsLek",
        "outputId": "ea9d392c-0809-4a78-913e-90e26687f66d"
      },
      "execution_count": null,
      "outputs": [
        {
          "output_type": "execute_result",
          "data": {
            "text/plain": [
              "LinearRegression()"
            ]
          },
          "metadata": {},
          "execution_count": 42
        }
      ]
    },
    {
      "cell_type": "code",
      "source": [
        "y_pred = regressor.predict(x_test)\n",
        "y_pred = y_pred.reshape(len(y_pred),1)\n",
        "y_pred1 = sc_y.inverse_transform(y_pred)\n",
        "y_test1 = sc_y.inverse_transform(y_test)"
      ],
      "metadata": {
        "id": "eCL1qjxPsSDZ"
      },
      "execution_count": null,
      "outputs": []
    },
    {
      "cell_type": "code",
      "source": [
        "plt.scatter(y_test1,y_pred1)"
      ],
      "metadata": {
        "colab": {
          "base_uri": "https://localhost:8080/",
          "height": 285
        },
        "id": "j74lSrAosTrN",
        "outputId": "615b66b1-43a4-4bd8-9493-25e727696f78"
      },
      "execution_count": null,
      "outputs": [
        {
          "output_type": "execute_result",
          "data": {
            "text/plain": [
              "<matplotlib.collections.PathCollection at 0x7f01321bc290>"
            ]
          },
          "metadata": {},
          "execution_count": 44
        },
        {
          "output_type": "display_data",
          "data": {
            "text/plain": [
              "<Figure size 432x288 with 1 Axes>"
            ],
            "image/png": "[encoded data removed]"
          },
          "metadata": {}
        }
      ]
    },
    {
      "cell_type": "code",
      "source": [
        "from sklearn.metrics import r2_score,mean_squared_error\n",
        "from math import sqrt\n",
        "print(r2_score(y_test1, y_pred1))\n",
        "mse=mean_squared_error(y_test1,y_pred1)\n",
        "rsme=sqrt(mse)\n",
        "print(rsme)"
      ],
      "metadata": {
        "colab": {
          "base_uri": "https://localhost:8080/"
        },
        "id": "BxPWDzc1sUg-",
        "outputId": "94b1a771-4807-47ad-95f3-0d5ac3dc6ffb"
      },
      "execution_count": null,
      "outputs": [
        {
          "output_type": "stream",
          "name": "stdout",
          "text": [
            "0.05376861816210177\n",
            "1.3030043704128746\n"
          ]
        }
      ]
    },
    {
      "cell_type": "code",
      "source": [
        "LR_ytest = y_test1\n",
        "LR_ypred = y_pred1\n",
        "LR_xtest = x_test1"
      ],
      "metadata": {
        "id": "MC_4wkz_sY8m"
      },
      "execution_count": null,
      "outputs": []
    },
    {
      "cell_type": "markdown",
      "source": [
        "XGBoost"
      ],
      "metadata": {
        "id": "tr5hVNuksc-c"
      }
    },
    {
      "cell_type": "code",
      "source": [
        "from xgboost import XGBRegressor\n",
        "regressor = XGBRegressor()\n",
        "regressor.fit(x_train,y_train)"
      ],
      "metadata": {
        "colab": {
          "base_uri": "https://localhost:8080/"
        },
        "id": "QV7_pudFsbFi",
        "outputId": "5c71eaac-08cc-484b-9381-2cdd2cdb87b9"
      },
      "execution_count": null,
      "outputs": [
        {
          "output_type": "stream",
          "name": "stdout",
          "text": [
            "[18:18:42] WARNING: /workspace/src/objective/regression_obj.cu:152: reg:linear is now deprecated in favor of reg:squarederror.\n"
          ]
        },
        {
          "output_type": "execute_result",
          "data": {
            "text/plain": [
              "XGBRegressor()"
            ]
          },
          "metadata": {},
          "execution_count": 48
        }
      ]
    },
    {
      "cell_type": "code",
      "source": [
        "y_pred = regressor.predict(x_test)\n",
        "y_pred = y_pred.reshape(len(y_pred),1)\n",
        "y_pred1 = sc_y.inverse_transform(y_pred)\n",
        "y_test1 = sc_y.inverse_transform(y_test)"
      ],
      "metadata": {
        "id": "2HDl4uT-sfU_"
      },
      "execution_count": null,
      "outputs": []
    },
    {
      "cell_type": "code",
      "source": [
        "plt.scatter(y_test1,y_pred1)"
      ],
      "metadata": {
        "colab": {
          "base_uri": "https://localhost:8080/",
          "height": 288
        },
        "id": "lNkkBTGWsiq7",
        "outputId": "2caaf125-1f52-40e4-c5eb-31a37c87088a"
      },
      "execution_count": null,
      "outputs": [
        {
          "output_type": "execute_result",
          "data": {
            "text/plain": [
              "<matplotlib.collections.PathCollection at 0x7f01293fc610>"
            ]
          },
          "metadata": {},
          "execution_count": 50
        },
        {
          "output_type": "display_data",
          "data": {
            "text/plain": [
              "<Figure size 432x288 with 1 Axes>"
            ],
            "image/png": "[encoded data removed]"
          },
          "metadata": {}
        }
      ]
    },
    {
      "cell_type": "code",
      "source": [
        "from sklearn.metrics import r2_score,mean_squared_error\n",
        "from math import sqrt\n",
        "print(r2_score(y_test1, y_pred1))\n",
        "mse=mean_squared_error(y_test1,y_pred1)\n",
        "rsme=sqrt(mse)\n",
        "print(rsme)"
      ],
      "metadata": {
        "colab": {
          "base_uri": "https://localhost:8080/"
        },
        "id": "YzIPagdtskic",
        "outputId": "794e976e-a0c9-4e39-d1dc-8a16f9b55209"
      },
      "execution_count": null,
      "outputs": [
        {
          "output_type": "stream",
          "name": "stdout",
          "text": [
            "0.9371090977126004\n",
            "0.3359240606957013\n"
          ]
        }
      ]
    },
    {
      "cell_type": "code",
      "source": [
        "XGR_ytest = y_test1\n",
        "XGR_ypred = y_pred1\n",
        "XGR_xtest = x_test1"
      ],
      "metadata": {
        "id": "F_NsoMGJsmfr"
      },
      "execution_count": null,
      "outputs": []
    },
    {
      "cell_type": "markdown",
      "source": [
        "CAT Boost - Bidirectional LSTM Neural Network"
      ],
      "metadata": {
        "id": "H3P33WRJsuoe"
      }
    },
    {
      "cell_type": "code",
      "source": [
        "pip install catboost"
      ],
      "metadata": {
        "colab": {
          "base_uri": "https://localhost:8080/"
        },
        "id": "Fs2YlvvTsoEL",
        "outputId": "9f54625b-aade-42da-cec5-0be7c33f34ad"
      },
      "execution_count": null,
      "outputs": [
        {
          "output_type": "stream",
          "name": "stdout",
          "text": [
            "Looking in indexes: https://pypi.org/simple, https://us-python.pkg.dev/colab-wheels/public/simple/\n",
            "Collecting catboost\n",
            "  Downloading catboost-1.0.6-cp37-none-manylinux1_x86_64.whl (76.6 MB)\n",
            "\u001b[K     |████████████████████████████████| 76.6 MB 1.2 MB/s \n",
            "\u001b[?25hRequirement already satisfied: six in /usr/local/lib/python3.7/dist-packages (from catboost) (1.15.0)\n",
            "Requirement already satisfied: numpy>=1.16.0 in /usr/local/lib/python3.7/dist-packages (from catboost) (1.21.6)\n",
            "Requirement already satisfied: graphviz in /usr/local/lib/python3.7/dist-packages (from catboost) (0.10.1)\n",
            "Requirement already satisfied: plotly in /usr/local/lib/python3.7/dist-packages (from catboost) (5.5.0)\n",
            "Requirement already satisfied: matplotlib in /usr/local/lib/python3.7/dist-packages (from catboost) (3.2.2)\n",
            "Requirement already satisfied: pandas>=0.24.0 in /usr/local/lib/python3.7/dist-packages (from catboost) (1.3.5)\n",
            "Requirement already satisfied: scipy in /usr/local/lib/python3.7/dist-packages (from catboost) (1.4.1)\n",
            "Requirement already satisfied: python-dateutil>=2.7.3 in /usr/local/lib/python3.7/dist-packages (from pandas>=0.24.0->catboost) (2.8.2)\n",
            "Requirement already satisfied: pytz>=2017.3 in /usr/local/lib/python3.7/dist-packages (from pandas>=0.24.0->catboost) (2022.1)\n",
            "Requirement already satisfied: kiwisolver>=1.0.1 in /usr/local/lib/python3.7/dist-packages (from matplotlib->catboost) (1.4.3)\n",
            "Requirement already satisfied: pyparsing!=2.0.4,!=2.1.2,!=2.1.6,>=2.0.1 in /usr/local/lib/python3.7/dist-packages (from matplotlib->catboost) (3.0.9)\n",
            "Requirement already satisfied: cycler>=0.10 in /usr/local/lib/python3.7/dist-packages (from matplotlib->catboost) (0.11.0)\n",
            "Requirement already satisfied: typing-extensions in /usr/local/lib/python3.7/dist-packages (from kiwisolver>=1.0.1->matplotlib->catboost) (4.1.1)\n",
            "Requirement already satisfied: tenacity>=6.2.0 in /usr/local/lib/python3.7/dist-packages (from plotly->catboost) (8.0.1)\n",
            "Installing collected packages: catboost\n",
            "Successfully installed catboost-1.0.6\n"
          ]
        }
      ]
    },
    {
      "cell_type": "code",
      "source": [
        "from catboost import CatBoostRegressor\n",
        "regressor = CatBoostRegressor()\n",
        "regressor.fit(x_train,y_train)"
      ],
      "metadata": {
        "colab": {
          "base_uri": "https://localhost:8080/"
        },
        "id": "RdQXR3syswq2",
        "outputId": "ab875e86-fa07-4b6e-86f0-55692c71772f"
      },
      "execution_count": null,
      "outputs": [
        {
          "output_type": "stream",
          "name": "stdout",
          "text": [
            "Learning rate set to 0.05892\n",
            "0:\tlearn: 0.9541742\ttotal: 49.4ms\tremaining: 49.4s\n",
            "1:\tlearn: 0.9104566\ttotal: 52.3ms\tremaining: 26.1s\n",
            "2:\tlearn: 0.8694001\ttotal: 54.7ms\tremaining: 18.2s\n",
            "3:\tlearn: 0.8315798\ttotal: 57.3ms\tremaining: 14.3s\n",
            "4:\tlearn: 0.7945433\ttotal: 59.9ms\tremaining: 11.9s\n",
            "5:\tlearn: 0.7597430\ttotal: 62.4ms\tremaining: 10.3s\n",
            "6:\tlearn: 0.7279100\ttotal: 64.8ms\tremaining: 9.2s\n",
            "7:\tlearn: 0.6961324\ttotal: 67.3ms\tremaining: 8.34s\n",
            "8:\tlearn: 0.6665214\ttotal: 69.8ms\tremaining: 7.68s\n",
            "9:\tlearn: 0.6384134\ttotal: 72.3ms\tremaining: 7.16s\n",
            "10:\tlearn: 0.6130209\ttotal: 74.8ms\tremaining: 6.72s\n",
            "11:\tlearn: 0.5866488\ttotal: 77.2ms\tremaining: 6.36s\n",
            "12:\tlearn: 0.5622894\ttotal: 79.6ms\tremaining: 6.05s\n",
            "13:\tlearn: 0.5422980\ttotal: 82ms\tremaining: 5.78s\n",
            "14:\tlearn: 0.5207278\ttotal: 84.4ms\tremaining: 5.54s\n",
            "15:\tlearn: 0.5011488\ttotal: 86.9ms\tremaining: 5.34s\n",
            "16:\tlearn: 0.4816017\ttotal: 89.4ms\tremaining: 5.17s\n",
            "17:\tlearn: 0.4633525\ttotal: 91.9ms\tremaining: 5.01s\n",
            "18:\tlearn: 0.4464762\ttotal: 94.3ms\tremaining: 4.87s\n",
            "19:\tlearn: 0.4296081\ttotal: 96.7ms\tremaining: 4.74s\n",
            "20:\tlearn: 0.4139236\ttotal: 99.1ms\tremaining: 4.62s\n",
            "21:\tlearn: 0.3998682\ttotal: 102ms\tremaining: 4.52s\n",
            "22:\tlearn: 0.3865397\ttotal: 104ms\tremaining: 4.42s\n",
            "23:\tlearn: 0.3751278\ttotal: 107ms\tremaining: 4.34s\n",
            "24:\tlearn: 0.3639814\ttotal: 109ms\tremaining: 4.26s\n",
            "25:\tlearn: 0.3533114\ttotal: 112ms\tremaining: 4.19s\n",
            "26:\tlearn: 0.3441564\ttotal: 114ms\tremaining: 4.12s\n",
            "27:\tlearn: 0.3348748\ttotal: 117ms\tremaining: 4.05s\n",
            "28:\tlearn: 0.3249847\ttotal: 119ms\tremaining: 4s\n",
            "29:\tlearn: 0.3167749\ttotal: 122ms\tremaining: 3.94s\n",
            "30:\tlearn: 0.3072903\ttotal: 124ms\tremaining: 3.89s\n",
            "31:\tlearn: 0.2984239\ttotal: 127ms\tremaining: 3.84s\n",
            "32:\tlearn: 0.2901314\ttotal: 129ms\tremaining: 3.79s\n",
            "33:\tlearn: 0.2835511\ttotal: 132ms\tremaining: 3.74s\n",
            "34:\tlearn: 0.2769525\ttotal: 134ms\tremaining: 3.7s\n",
            "35:\tlearn: 0.2706931\ttotal: 137ms\tremaining: 3.66s\n",
            "36:\tlearn: 0.2640422\ttotal: 139ms\tremaining: 3.63s\n",
            "37:\tlearn: 0.2583108\ttotal: 142ms\tremaining: 3.59s\n",
            "38:\tlearn: 0.2532540\ttotal: 144ms\tremaining: 3.56s\n",
            "39:\tlearn: 0.2481159\ttotal: 147ms\tremaining: 3.52s\n",
            "40:\tlearn: 0.2433751\ttotal: 149ms\tremaining: 3.49s\n",
            "41:\tlearn: 0.2387629\ttotal: 152ms\tremaining: 3.46s\n",
            "42:\tlearn: 0.2353886\ttotal: 154ms\tremaining: 3.43s\n",
            "43:\tlearn: 0.2325508\ttotal: 157ms\tremaining: 3.4s\n",
            "44:\tlearn: 0.2286204\ttotal: 159ms\tremaining: 3.38s\n",
            "45:\tlearn: 0.2253601\ttotal: 161ms\tremaining: 3.35s\n",
            "46:\tlearn: 0.2239085\ttotal: 164ms\tremaining: 3.31s\n",
            "47:\tlearn: 0.2203349\ttotal: 166ms\tremaining: 3.29s\n",
            "48:\tlearn: 0.2170694\ttotal: 168ms\tremaining: 3.27s\n",
            "49:\tlearn: 0.2147012\ttotal: 171ms\tremaining: 3.25s\n",
            "50:\tlearn: 0.2115050\ttotal: 173ms\tremaining: 3.23s\n",
            "51:\tlearn: 0.2077558\ttotal: 176ms\tremaining: 3.2s\n",
            "52:\tlearn: 0.2061856\ttotal: 178ms\tremaining: 3.18s\n",
            "53:\tlearn: 0.2034607\ttotal: 180ms\tremaining: 3.16s\n",
            "54:\tlearn: 0.2020059\ttotal: 183ms\tremaining: 3.14s\n",
            "55:\tlearn: 0.1992916\ttotal: 186ms\tremaining: 3.13s\n",
            "56:\tlearn: 0.1977760\ttotal: 188ms\tremaining: 3.11s\n",
            "57:\tlearn: 0.1958273\ttotal: 193ms\tremaining: 3.14s\n",
            "58:\tlearn: 0.1928699\ttotal: 196ms\tremaining: 3.12s\n",
            "59:\tlearn: 0.1899662\ttotal: 198ms\tremaining: 3.1s\n",
            "60:\tlearn: 0.1889275\ttotal: 200ms\tremaining: 3.08s\n",
            "61:\tlearn: 0.1871530\ttotal: 202ms\tremaining: 3.06s\n",
            "62:\tlearn: 0.1847379\ttotal: 204ms\tremaining: 3.04s\n",
            "63:\tlearn: 0.1825785\ttotal: 206ms\tremaining: 3.02s\n",
            "64:\tlearn: 0.1804776\ttotal: 209ms\tremaining: 3s\n",
            "65:\tlearn: 0.1783504\ttotal: 211ms\tremaining: 2.99s\n",
            "66:\tlearn: 0.1774401\ttotal: 213ms\tremaining: 2.97s\n",
            "67:\tlearn: 0.1755116\ttotal: 216ms\tremaining: 2.96s\n",
            "68:\tlearn: 0.1738669\ttotal: 218ms\tremaining: 2.94s\n",
            "69:\tlearn: 0.1724910\ttotal: 221ms\tremaining: 2.93s\n",
            "70:\tlearn: 0.1717793\ttotal: 223ms\tremaining: 2.92s\n",
            "71:\tlearn: 0.1712868\ttotal: 226ms\tremaining: 2.91s\n",
            "72:\tlearn: 0.1699471\ttotal: 228ms\tremaining: 2.9s\n",
            "73:\tlearn: 0.1682641\ttotal: 231ms\tremaining: 2.89s\n",
            "74:\tlearn: 0.1664830\ttotal: 233ms\tremaining: 2.88s\n",
            "75:\tlearn: 0.1653012\ttotal: 236ms\tremaining: 2.87s\n",
            "76:\tlearn: 0.1637119\ttotal: 238ms\tremaining: 2.86s\n",
            "77:\tlearn: 0.1620461\ttotal: 242ms\tremaining: 2.85s\n",
            "78:\tlearn: 0.1615971\ttotal: 244ms\tremaining: 2.84s\n",
            "79:\tlearn: 0.1607562\ttotal: 246ms\tremaining: 2.83s\n",
            "80:\tlearn: 0.1602801\ttotal: 248ms\tremaining: 2.82s\n",
            "81:\tlearn: 0.1589959\ttotal: 250ms\tremaining: 2.8s\n",
            "82:\tlearn: 0.1586806\ttotal: 252ms\tremaining: 2.79s\n",
            "83:\tlearn: 0.1584063\ttotal: 255ms\tremaining: 2.78s\n",
            "84:\tlearn: 0.1581347\ttotal: 257ms\tremaining: 2.76s\n",
            "85:\tlearn: 0.1578816\ttotal: 259ms\tremaining: 2.75s\n",
            "86:\tlearn: 0.1567741\ttotal: 262ms\tremaining: 2.75s\n",
            "87:\tlearn: 0.1550400\ttotal: 264ms\tremaining: 2.74s\n",
            "88:\tlearn: 0.1539055\ttotal: 266ms\tremaining: 2.73s\n",
            "89:\tlearn: 0.1526667\ttotal: 269ms\tremaining: 2.72s\n",
            "90:\tlearn: 0.1512153\ttotal: 271ms\tremaining: 2.71s\n",
            "91:\tlearn: 0.1502644\ttotal: 274ms\tremaining: 2.7s\n",
            "92:\tlearn: 0.1500400\ttotal: 276ms\tremaining: 2.69s\n",
            "93:\tlearn: 0.1487820\ttotal: 279ms\tremaining: 2.68s\n",
            "94:\tlearn: 0.1485610\ttotal: 281ms\tremaining: 2.67s\n",
            "95:\tlearn: 0.1476030\ttotal: 284ms\tremaining: 2.68s\n",
            "96:\tlearn: 0.1467188\ttotal: 287ms\tremaining: 2.67s\n",
            "97:\tlearn: 0.1455784\ttotal: 295ms\tremaining: 2.71s\n",
            "98:\tlearn: 0.1445651\ttotal: 302ms\tremaining: 2.74s\n",
            "99:\tlearn: 0.1443914\ttotal: 304ms\tremaining: 2.74s\n",
            "100:\tlearn: 0.1442205\ttotal: 307ms\tremaining: 2.73s\n",
            "101:\tlearn: 0.1429678\ttotal: 309ms\tremaining: 2.72s\n",
            "102:\tlearn: 0.1428285\ttotal: 312ms\tremaining: 2.71s\n",
            "103:\tlearn: 0.1414653\ttotal: 314ms\tremaining: 2.71s\n",
            "104:\tlearn: 0.1408278\ttotal: 317ms\tremaining: 2.7s\n",
            "105:\tlearn: 0.1402034\ttotal: 319ms\tremaining: 2.69s\n",
            "106:\tlearn: 0.1395935\ttotal: 321ms\tremaining: 2.68s\n",
            "107:\tlearn: 0.1395082\ttotal: 324ms\tremaining: 2.67s\n",
            "108:\tlearn: 0.1393180\ttotal: 326ms\tremaining: 2.66s\n",
            "109:\tlearn: 0.1384017\ttotal: 328ms\tremaining: 2.66s\n",
            "110:\tlearn: 0.1372868\ttotal: 331ms\tremaining: 2.65s\n",
            "111:\tlearn: 0.1366179\ttotal: 333ms\tremaining: 2.64s\n",
            "112:\tlearn: 0.1357519\ttotal: 336ms\tremaining: 2.64s\n",
            "113:\tlearn: 0.1349866\ttotal: 338ms\tremaining: 2.63s\n",
            "114:\tlearn: 0.1344573\ttotal: 341ms\tremaining: 2.62s\n",
            "115:\tlearn: 0.1333996\ttotal: 343ms\tremaining: 2.62s\n",
            "116:\tlearn: 0.1326044\ttotal: 346ms\tremaining: 2.61s\n",
            "117:\tlearn: 0.1319526\ttotal: 348ms\tremaining: 2.6s\n",
            "118:\tlearn: 0.1317533\ttotal: 350ms\tremaining: 2.59s\n",
            "119:\tlearn: 0.1312224\ttotal: 353ms\tremaining: 2.58s\n",
            "120:\tlearn: 0.1303699\ttotal: 355ms\tremaining: 2.58s\n",
            "121:\tlearn: 0.1295454\ttotal: 358ms\tremaining: 2.57s\n",
            "122:\tlearn: 0.1294927\ttotal: 360ms\tremaining: 2.56s\n",
            "123:\tlearn: 0.1286276\ttotal: 362ms\tremaining: 2.56s\n",
            "124:\tlearn: 0.1279545\ttotal: 364ms\tremaining: 2.55s\n",
            "125:\tlearn: 0.1274847\ttotal: 367ms\tremaining: 2.54s\n",
            "126:\tlearn: 0.1269654\ttotal: 369ms\tremaining: 2.54s\n",
            "127:\tlearn: 0.1268589\ttotal: 372ms\tremaining: 2.53s\n",
            "128:\tlearn: 0.1267230\ttotal: 374ms\tremaining: 2.53s\n",
            "129:\tlearn: 0.1265044\ttotal: 377ms\tremaining: 2.52s\n",
            "130:\tlearn: 0.1259626\ttotal: 380ms\tremaining: 2.52s\n",
            "131:\tlearn: 0.1257466\ttotal: 383ms\tremaining: 2.52s\n",
            "132:\tlearn: 0.1251856\ttotal: 389ms\tremaining: 2.54s\n",
            "133:\tlearn: 0.1250316\ttotal: 396ms\tremaining: 2.56s\n",
            "134:\tlearn: 0.1244080\ttotal: 401ms\tremaining: 2.57s\n",
            "135:\tlearn: 0.1238938\ttotal: 404ms\tremaining: 2.57s\n",
            "136:\tlearn: 0.1231567\ttotal: 407ms\tremaining: 2.56s\n",
            "137:\tlearn: 0.1227051\ttotal: 409ms\tremaining: 2.56s\n",
            "138:\tlearn: 0.1220989\ttotal: 412ms\tremaining: 2.55s\n",
            "139:\tlearn: 0.1216630\ttotal: 414ms\tremaining: 2.54s\n",
            "140:\tlearn: 0.1210441\ttotal: 417ms\tremaining: 2.54s\n",
            "141:\tlearn: 0.1206822\ttotal: 419ms\tremaining: 2.53s\n",
            "142:\tlearn: 0.1201977\ttotal: 422ms\tremaining: 2.53s\n",
            "143:\tlearn: 0.1196247\ttotal: 424ms\tremaining: 2.52s\n",
            "144:\tlearn: 0.1188433\ttotal: 427ms\tremaining: 2.52s\n",
            "145:\tlearn: 0.1184390\ttotal: 429ms\tremaining: 2.51s\n",
            "146:\tlearn: 0.1181265\ttotal: 432ms\tremaining: 2.5s\n",
            "147:\tlearn: 0.1175234\ttotal: 434ms\tremaining: 2.5s\n",
            "148:\tlearn: 0.1167569\ttotal: 437ms\tremaining: 2.49s\n",
            "149:\tlearn: 0.1163739\ttotal: 439ms\tremaining: 2.49s\n",
            "150:\tlearn: 0.1160903\ttotal: 441ms\tremaining: 2.48s\n",
            "151:\tlearn: 0.1153370\ttotal: 444ms\tremaining: 2.48s\n",
            "152:\tlearn: 0.1150756\ttotal: 446ms\tremaining: 2.47s\n",
            "153:\tlearn: 0.1147308\ttotal: 449ms\tremaining: 2.46s\n",
            "154:\tlearn: 0.1144108\ttotal: 452ms\tremaining: 2.46s\n",
            "155:\tlearn: 0.1141647\ttotal: 455ms\tremaining: 2.46s\n",
            "156:\tlearn: 0.1135984\ttotal: 457ms\tremaining: 2.45s\n",
            "157:\tlearn: 0.1133410\ttotal: 460ms\tremaining: 2.45s\n",
            "158:\tlearn: 0.1129538\ttotal: 462ms\tremaining: 2.44s\n",
            "159:\tlearn: 0.1128724\ttotal: 465ms\tremaining: 2.44s\n",
            "160:\tlearn: 0.1121741\ttotal: 467ms\tremaining: 2.43s\n",
            "161:\tlearn: 0.1118476\ttotal: 470ms\tremaining: 2.43s\n",
            "162:\tlearn: 0.1114269\ttotal: 472ms\tremaining: 2.42s\n",
            "163:\tlearn: 0.1111067\ttotal: 475ms\tremaining: 2.42s\n",
            "164:\tlearn: 0.1105500\ttotal: 478ms\tremaining: 2.42s\n",
            "165:\tlearn: 0.1102033\ttotal: 482ms\tremaining: 2.42s\n",
            "166:\tlearn: 0.1096834\ttotal: 485ms\tremaining: 2.42s\n",
            "167:\tlearn: 0.1093696\ttotal: 488ms\tremaining: 2.42s\n",
            "168:\tlearn: 0.1090045\ttotal: 491ms\tremaining: 2.42s\n",
            "169:\tlearn: 0.1086256\ttotal: 495ms\tremaining: 2.41s\n",
            "170:\tlearn: 0.1084203\ttotal: 498ms\tremaining: 2.41s\n",
            "171:\tlearn: 0.1081184\ttotal: 501ms\tremaining: 2.41s\n",
            "172:\tlearn: 0.1077340\ttotal: 504ms\tremaining: 2.41s\n",
            "173:\tlearn: 0.1075472\ttotal: 508ms\tremaining: 2.41s\n",
            "174:\tlearn: 0.1072470\ttotal: 510ms\tremaining: 2.41s\n",
            "175:\tlearn: 0.1067560\ttotal: 515ms\tremaining: 2.41s\n",
            "176:\tlearn: 0.1065408\ttotal: 519ms\tremaining: 2.41s\n",
            "177:\tlearn: 0.1056698\ttotal: 534ms\tremaining: 2.47s\n",
            "178:\tlearn: 0.1048509\ttotal: 537ms\tremaining: 2.46s\n",
            "179:\tlearn: 0.1046936\ttotal: 539ms\tremaining: 2.46s\n",
            "180:\tlearn: 0.1045950\ttotal: 541ms\tremaining: 2.45s\n",
            "181:\tlearn: 0.1043905\ttotal: 543ms\tremaining: 2.44s\n",
            "182:\tlearn: 0.1040613\ttotal: 545ms\tremaining: 2.44s\n",
            "183:\tlearn: 0.1039740\ttotal: 548ms\tremaining: 2.43s\n",
            "184:\tlearn: 0.1037937\ttotal: 550ms\tremaining: 2.42s\n",
            "185:\tlearn: 0.1035229\ttotal: 552ms\tremaining: 2.41s\n",
            "186:\tlearn: 0.1032534\ttotal: 554ms\tremaining: 2.41s\n",
            "187:\tlearn: 0.1028710\ttotal: 557ms\tremaining: 2.4s\n",
            "188:\tlearn: 0.1025472\ttotal: 559ms\tremaining: 2.4s\n",
            "189:\tlearn: 0.1020973\ttotal: 561ms\tremaining: 2.39s\n",
            "190:\tlearn: 0.1018620\ttotal: 564ms\tremaining: 2.39s\n",
            "191:\tlearn: 0.1016404\ttotal: 566ms\tremaining: 2.38s\n",
            "192:\tlearn: 0.1013984\ttotal: 569ms\tremaining: 2.38s\n",
            "193:\tlearn: 0.1011227\ttotal: 571ms\tremaining: 2.37s\n",
            "194:\tlearn: 0.1009205\ttotal: 574ms\tremaining: 2.37s\n",
            "195:\tlearn: 0.1006759\ttotal: 579ms\tremaining: 2.37s\n",
            "196:\tlearn: 0.1005820\ttotal: 582ms\tremaining: 2.37s\n",
            "197:\tlearn: 0.1003911\ttotal: 584ms\tremaining: 2.37s\n",
            "198:\tlearn: 0.1002408\ttotal: 586ms\tremaining: 2.36s\n",
            "199:\tlearn: 0.1000573\ttotal: 588ms\tremaining: 2.35s\n",
            "200:\tlearn: 0.0998297\ttotal: 591ms\tremaining: 2.35s\n",
            "201:\tlearn: 0.0995994\ttotal: 593ms\tremaining: 2.34s\n",
            "202:\tlearn: 0.0994253\ttotal: 595ms\tremaining: 2.33s\n",
            "203:\tlearn: 0.0992906\ttotal: 597ms\tremaining: 2.33s\n",
            "204:\tlearn: 0.0990357\ttotal: 599ms\tremaining: 2.32s\n",
            "205:\tlearn: 0.0987776\ttotal: 601ms\tremaining: 2.32s\n",
            "206:\tlearn: 0.0985978\ttotal: 603ms\tremaining: 2.31s\n",
            "207:\tlearn: 0.0985270\ttotal: 605ms\tremaining: 2.31s\n",
            "208:\tlearn: 0.0983502\ttotal: 607ms\tremaining: 2.3s\n",
            "209:\tlearn: 0.0982877\ttotal: 610ms\tremaining: 2.29s\n",
            "210:\tlearn: 0.0981295\ttotal: 612ms\tremaining: 2.29s\n",
            "211:\tlearn: 0.0979809\ttotal: 614ms\tremaining: 2.28s\n",
            "212:\tlearn: 0.0978463\ttotal: 616ms\tremaining: 2.27s\n",
            "213:\tlearn: 0.0977139\ttotal: 618ms\tremaining: 2.27s\n",
            "214:\tlearn: 0.0975311\ttotal: 620ms\tremaining: 2.26s\n",
            "215:\tlearn: 0.0972709\ttotal: 622ms\tremaining: 2.26s\n",
            "216:\tlearn: 0.0971389\ttotal: 624ms\tremaining: 2.25s\n",
            "217:\tlearn: 0.0970442\ttotal: 626ms\tremaining: 2.25s\n",
            "218:\tlearn: 0.0964735\ttotal: 629ms\tremaining: 2.24s\n",
            "219:\tlearn: 0.0963343\ttotal: 631ms\tremaining: 2.24s\n",
            "220:\tlearn: 0.0961426\ttotal: 634ms\tremaining: 2.23s\n",
            "221:\tlearn: 0.0960917\ttotal: 636ms\tremaining: 2.23s\n",
            "222:\tlearn: 0.0959750\ttotal: 638ms\tremaining: 2.22s\n",
            "223:\tlearn: 0.0958597\ttotal: 641ms\tremaining: 2.22s\n",
            "224:\tlearn: 0.0956115\ttotal: 643ms\tremaining: 2.21s\n",
            "225:\tlearn: 0.0954837\ttotal: 646ms\tremaining: 2.21s\n",
            "226:\tlearn: 0.0953295\ttotal: 648ms\tremaining: 2.21s\n",
            "227:\tlearn: 0.0951808\ttotal: 650ms\tremaining: 2.2s\n",
            "228:\tlearn: 0.0951534\ttotal: 653ms\tremaining: 2.2s\n",
            "229:\tlearn: 0.0950948\ttotal: 655ms\tremaining: 2.19s\n",
            "230:\tlearn: 0.0950077\ttotal: 658ms\tremaining: 2.19s\n",
            "231:\tlearn: 0.0949708\ttotal: 660ms\tremaining: 2.19s\n",
            "232:\tlearn: 0.0948208\ttotal: 663ms\tremaining: 2.18s\n",
            "233:\tlearn: 0.0947597\ttotal: 665ms\tremaining: 2.18s\n",
            "234:\tlearn: 0.0946745\ttotal: 667ms\tremaining: 2.17s\n",
            "235:\tlearn: 0.0945755\ttotal: 670ms\tremaining: 2.17s\n",
            "236:\tlearn: 0.0945465\ttotal: 672ms\tremaining: 2.16s\n",
            "237:\tlearn: 0.0944527\ttotal: 675ms\tremaining: 2.16s\n",
            "238:\tlearn: 0.0942808\ttotal: 677ms\tremaining: 2.15s\n",
            "239:\tlearn: 0.0942132\ttotal: 679ms\tremaining: 2.15s\n",
            "240:\tlearn: 0.0941279\ttotal: 682ms\tremaining: 2.15s\n",
            "241:\tlearn: 0.0937442\ttotal: 684ms\tremaining: 2.14s\n",
            "242:\tlearn: 0.0935773\ttotal: 687ms\tremaining: 2.14s\n",
            "243:\tlearn: 0.0934167\ttotal: 689ms\tremaining: 2.13s\n",
            "244:\tlearn: 0.0932947\ttotal: 692ms\tremaining: 2.13s\n",
            "245:\tlearn: 0.0928355\ttotal: 694ms\tremaining: 2.13s\n",
            "246:\tlearn: 0.0924372\ttotal: 697ms\tremaining: 2.12s\n",
            "247:\tlearn: 0.0923876\ttotal: 699ms\tremaining: 2.12s\n",
            "248:\tlearn: 0.0920563\ttotal: 701ms\tremaining: 2.11s\n",
            "249:\tlearn: 0.0919890\ttotal: 703ms\tremaining: 2.11s\n",
            "250:\tlearn: 0.0919363\ttotal: 706ms\tremaining: 2.11s\n",
            "251:\tlearn: 0.0918917\ttotal: 708ms\tremaining: 2.1s\n",
            "252:\tlearn: 0.0916142\ttotal: 711ms\tremaining: 2.1s\n",
            "253:\tlearn: 0.0915889\ttotal: 713ms\tremaining: 2.09s\n",
            "254:\tlearn: 0.0914966\ttotal: 716ms\tremaining: 2.09s\n",
            "255:\tlearn: 0.0913360\ttotal: 718ms\tremaining: 2.09s\n",
            "256:\tlearn: 0.0912990\ttotal: 720ms\tremaining: 2.08s\n",
            "257:\tlearn: 0.0911359\ttotal: 723ms\tremaining: 2.08s\n",
            "258:\tlearn: 0.0909923\ttotal: 725ms\tremaining: 2.08s\n",
            "259:\tlearn: 0.0909083\ttotal: 728ms\tremaining: 2.07s\n",
            "260:\tlearn: 0.0908045\ttotal: 730ms\tremaining: 2.07s\n",
            "261:\tlearn: 0.0905683\ttotal: 733ms\tremaining: 2.06s\n",
            "262:\tlearn: 0.0904022\ttotal: 735ms\tremaining: 2.06s\n",
            "263:\tlearn: 0.0903277\ttotal: 738ms\tremaining: 2.06s\n",
            "264:\tlearn: 0.0902474\ttotal: 740ms\tremaining: 2.05s\n",
            "265:\tlearn: 0.0902064\ttotal: 742ms\tremaining: 2.05s\n",
            "266:\tlearn: 0.0900513\ttotal: 745ms\tremaining: 2.04s\n",
            "267:\tlearn: 0.0900281\ttotal: 747ms\tremaining: 2.04s\n",
            "268:\tlearn: 0.0899596\ttotal: 750ms\tremaining: 2.04s\n",
            "269:\tlearn: 0.0898277\ttotal: 752ms\tremaining: 2.03s\n",
            "270:\tlearn: 0.0897914\ttotal: 755ms\tremaining: 2.03s\n",
            "271:\tlearn: 0.0897239\ttotal: 757ms\tremaining: 2.02s\n",
            "272:\tlearn: 0.0896486\ttotal: 763ms\tremaining: 2.03s\n",
            "273:\tlearn: 0.0896259\ttotal: 766ms\tremaining: 2.03s\n",
            "274:\tlearn: 0.0894167\ttotal: 768ms\tremaining: 2.02s\n",
            "275:\tlearn: 0.0892871\ttotal: 770ms\tremaining: 2.02s\n",
            "276:\tlearn: 0.0891458\ttotal: 773ms\tremaining: 2.02s\n",
            "277:\tlearn: 0.0891042\ttotal: 776ms\tremaining: 2.02s\n",
            "278:\tlearn: 0.0889277\ttotal: 780ms\tremaining: 2.02s\n",
            "279:\tlearn: 0.0888159\ttotal: 782ms\tremaining: 2.01s\n",
            "280:\tlearn: 0.0885861\ttotal: 785ms\tremaining: 2.01s\n",
            "281:\tlearn: 0.0884811\ttotal: 787ms\tremaining: 2s\n",
            "282:\tlearn: 0.0882524\ttotal: 789ms\tremaining: 2s\n",
            "283:\tlearn: 0.0879148\ttotal: 791ms\tremaining: 1.99s\n",
            "284:\tlearn: 0.0877387\ttotal: 793ms\tremaining: 1.99s\n",
            "285:\tlearn: 0.0875234\ttotal: 795ms\tremaining: 1.99s\n",
            "286:\tlearn: 0.0873959\ttotal: 797ms\tremaining: 1.98s\n",
            "287:\tlearn: 0.0873058\ttotal: 799ms\tremaining: 1.98s\n",
            "288:\tlearn: 0.0871904\ttotal: 801ms\tremaining: 1.97s\n",
            "289:\tlearn: 0.0870851\ttotal: 803ms\tremaining: 1.97s\n",
            "290:\tlearn: 0.0870201\ttotal: 806ms\tremaining: 1.96s\n",
            "291:\tlearn: 0.0868542\ttotal: 808ms\tremaining: 1.96s\n",
            "292:\tlearn: 0.0866952\ttotal: 810ms\tremaining: 1.95s\n",
            "293:\tlearn: 0.0866428\ttotal: 812ms\tremaining: 1.95s\n",
            "294:\tlearn: 0.0865096\ttotal: 815ms\tremaining: 1.95s\n",
            "295:\tlearn: 0.0864130\ttotal: 817ms\tremaining: 1.94s\n",
            "296:\tlearn: 0.0861463\ttotal: 820ms\tremaining: 1.94s\n",
            "297:\tlearn: 0.0860581\ttotal: 822ms\tremaining: 1.94s\n",
            "298:\tlearn: 0.0859776\ttotal: 824ms\tremaining: 1.93s\n",
            "299:\tlearn: 0.0858597\ttotal: 827ms\tremaining: 1.93s\n",
            "300:\tlearn: 0.0856167\ttotal: 829ms\tremaining: 1.93s\n",
            "301:\tlearn: 0.0855341\ttotal: 832ms\tremaining: 1.92s\n",
            "302:\tlearn: 0.0853250\ttotal: 834ms\tremaining: 1.92s\n",
            "303:\tlearn: 0.0848818\ttotal: 836ms\tremaining: 1.91s\n",
            "304:\tlearn: 0.0846790\ttotal: 839ms\tremaining: 1.91s\n",
            "305:\tlearn: 0.0846375\ttotal: 841ms\tremaining: 1.91s\n",
            "306:\tlearn: 0.0845654\ttotal: 844ms\tremaining: 1.9s\n",
            "307:\tlearn: 0.0843692\ttotal: 846ms\tremaining: 1.9s\n",
            "308:\tlearn: 0.0843222\ttotal: 848ms\tremaining: 1.9s\n",
            "309:\tlearn: 0.0840158\ttotal: 851ms\tremaining: 1.89s\n",
            "310:\tlearn: 0.0839651\ttotal: 853ms\tremaining: 1.89s\n",
            "311:\tlearn: 0.0837790\ttotal: 856ms\tremaining: 1.89s\n",
            "312:\tlearn: 0.0835897\ttotal: 858ms\tremaining: 1.88s\n",
            "313:\tlearn: 0.0834880\ttotal: 861ms\tremaining: 1.88s\n",
            "314:\tlearn: 0.0834034\ttotal: 863ms\tremaining: 1.88s\n",
            "315:\tlearn: 0.0832550\ttotal: 866ms\tremaining: 1.87s\n",
            "316:\tlearn: 0.0832051\ttotal: 869ms\tremaining: 1.87s\n",
            "317:\tlearn: 0.0830558\ttotal: 872ms\tremaining: 1.87s\n",
            "318:\tlearn: 0.0829803\ttotal: 875ms\tremaining: 1.87s\n",
            "319:\tlearn: 0.0828078\ttotal: 877ms\tremaining: 1.86s\n",
            "320:\tlearn: 0.0827518\ttotal: 880ms\tremaining: 1.86s\n",
            "321:\tlearn: 0.0826975\ttotal: 882ms\tremaining: 1.86s\n",
            "322:\tlearn: 0.0826074\ttotal: 884ms\tremaining: 1.85s\n",
            "323:\tlearn: 0.0825271\ttotal: 887ms\tremaining: 1.85s\n",
            "324:\tlearn: 0.0824673\ttotal: 889ms\tremaining: 1.85s\n",
            "325:\tlearn: 0.0824134\ttotal: 892ms\tremaining: 1.84s\n",
            "326:\tlearn: 0.0823696\ttotal: 894ms\tremaining: 1.84s\n",
            "327:\tlearn: 0.0822761\ttotal: 897ms\tremaining: 1.84s\n",
            "328:\tlearn: 0.0821558\ttotal: 899ms\tremaining: 1.83s\n",
            "329:\tlearn: 0.0821038\ttotal: 901ms\tremaining: 1.83s\n",
            "330:\tlearn: 0.0820179\ttotal: 904ms\tremaining: 1.83s\n",
            "331:\tlearn: 0.0819851\ttotal: 906ms\tremaining: 1.82s\n",
            "332:\tlearn: 0.0819137\ttotal: 909ms\tremaining: 1.82s\n",
            "333:\tlearn: 0.0818177\ttotal: 911ms\tremaining: 1.82s\n",
            "334:\tlearn: 0.0815738\ttotal: 913ms\tremaining: 1.81s\n",
            "335:\tlearn: 0.0813607\ttotal: 916ms\tremaining: 1.81s\n",
            "336:\tlearn: 0.0813462\ttotal: 918ms\tremaining: 1.81s\n",
            "337:\tlearn: 0.0812715\ttotal: 921ms\tremaining: 1.8s\n",
            "338:\tlearn: 0.0811460\ttotal: 923ms\tremaining: 1.8s\n",
            "339:\tlearn: 0.0810605\ttotal: 925ms\tremaining: 1.8s\n",
            "340:\tlearn: 0.0809439\ttotal: 928ms\tremaining: 1.79s\n",
            "341:\tlearn: 0.0808031\ttotal: 930ms\tremaining: 1.79s\n",
            "342:\tlearn: 0.0806742\ttotal: 933ms\tremaining: 1.79s\n",
            "343:\tlearn: 0.0805835\ttotal: 935ms\tremaining: 1.78s\n",
            "344:\tlearn: 0.0805099\ttotal: 937ms\tremaining: 1.78s\n",
            "345:\tlearn: 0.0804252\ttotal: 940ms\tremaining: 1.78s\n",
            "346:\tlearn: 0.0800231\ttotal: 942ms\tremaining: 1.77s\n",
            "347:\tlearn: 0.0799299\ttotal: 944ms\tremaining: 1.77s\n",
            "348:\tlearn: 0.0798522\ttotal: 947ms\tremaining: 1.77s\n",
            "349:\tlearn: 0.0797788\ttotal: 952ms\tremaining: 1.77s\n",
            "350:\tlearn: 0.0796274\ttotal: 955ms\tremaining: 1.76s\n",
            "351:\tlearn: 0.0796095\ttotal: 957ms\tremaining: 1.76s\n",
            "352:\tlearn: 0.0795245\ttotal: 959ms\tremaining: 1.76s\n",
            "353:\tlearn: 0.0794586\ttotal: 963ms\tremaining: 1.76s\n",
            "354:\tlearn: 0.0792491\ttotal: 967ms\tremaining: 1.76s\n",
            "355:\tlearn: 0.0791805\ttotal: 969ms\tremaining: 1.75s\n",
            "356:\tlearn: 0.0791185\ttotal: 972ms\tremaining: 1.75s\n",
            "357:\tlearn: 0.0789289\ttotal: 974ms\tremaining: 1.75s\n",
            "358:\tlearn: 0.0788761\ttotal: 977ms\tremaining: 1.74s\n",
            "359:\tlearn: 0.0788547\ttotal: 979ms\tremaining: 1.74s\n",
            "360:\tlearn: 0.0787298\ttotal: 982ms\tremaining: 1.74s\n",
            "361:\tlearn: 0.0786684\ttotal: 984ms\tremaining: 1.73s\n",
            "362:\tlearn: 0.0786019\ttotal: 987ms\tremaining: 1.73s\n",
            "363:\tlearn: 0.0784765\ttotal: 989ms\tremaining: 1.73s\n",
            "364:\tlearn: 0.0784226\ttotal: 991ms\tremaining: 1.72s\n",
            "365:\tlearn: 0.0783187\ttotal: 994ms\tremaining: 1.72s\n",
            "366:\tlearn: 0.0782628\ttotal: 996ms\tremaining: 1.72s\n",
            "367:\tlearn: 0.0782026\ttotal: 999ms\tremaining: 1.72s\n",
            "368:\tlearn: 0.0781599\ttotal: 1s\tremaining: 1.71s\n",
            "369:\tlearn: 0.0780595\ttotal: 1s\tremaining: 1.71s\n",
            "370:\tlearn: 0.0777237\ttotal: 1.01s\tremaining: 1.71s\n",
            "371:\tlearn: 0.0775638\ttotal: 1.01s\tremaining: 1.7s\n",
            "372:\tlearn: 0.0775096\ttotal: 1.01s\tremaining: 1.7s\n",
            "373:\tlearn: 0.0774782\ttotal: 1.01s\tremaining: 1.7s\n",
            "374:\tlearn: 0.0773607\ttotal: 1.02s\tremaining: 1.69s\n",
            "375:\tlearn: 0.0773096\ttotal: 1.02s\tremaining: 1.69s\n",
            "376:\tlearn: 0.0772826\ttotal: 1.02s\tremaining: 1.69s\n",
            "377:\tlearn: 0.0771498\ttotal: 1.02s\tremaining: 1.68s\n",
            "378:\tlearn: 0.0770772\ttotal: 1.03s\tremaining: 1.68s\n",
            "379:\tlearn: 0.0769926\ttotal: 1.03s\tremaining: 1.68s\n",
            "380:\tlearn: 0.0769271\ttotal: 1.03s\tremaining: 1.68s\n",
            "381:\tlearn: 0.0768786\ttotal: 1.03s\tremaining: 1.67s\n",
            "382:\tlearn: 0.0768254\ttotal: 1.04s\tremaining: 1.67s\n",
            "383:\tlearn: 0.0767994\ttotal: 1.04s\tremaining: 1.67s\n",
            "384:\tlearn: 0.0766972\ttotal: 1.04s\tremaining: 1.66s\n",
            "385:\tlearn: 0.0766230\ttotal: 1.04s\tremaining: 1.66s\n",
            "386:\tlearn: 0.0765036\ttotal: 1.04s\tremaining: 1.66s\n",
            "387:\tlearn: 0.0764342\ttotal: 1.05s\tremaining: 1.65s\n",
            "388:\tlearn: 0.0763701\ttotal: 1.05s\tremaining: 1.65s\n",
            "389:\tlearn: 0.0762624\ttotal: 1.05s\tremaining: 1.65s\n",
            "390:\tlearn: 0.0762131\ttotal: 1.05s\tremaining: 1.64s\n",
            "391:\tlearn: 0.0761899\ttotal: 1.06s\tremaining: 1.64s\n",
            "392:\tlearn: 0.0761092\ttotal: 1.06s\tremaining: 1.64s\n",
            "393:\tlearn: 0.0760602\ttotal: 1.06s\tremaining: 1.64s\n",
            "394:\tlearn: 0.0757736\ttotal: 1.06s\tremaining: 1.63s\n",
            "395:\tlearn: 0.0756959\ttotal: 1.07s\tremaining: 1.63s\n",
            "396:\tlearn: 0.0756235\ttotal: 1.07s\tremaining: 1.63s\n",
            "397:\tlearn: 0.0753081\ttotal: 1.07s\tremaining: 1.62s\n",
            "398:\tlearn: 0.0752636\ttotal: 1.08s\tremaining: 1.62s\n",
            "399:\tlearn: 0.0749390\ttotal: 1.08s\tremaining: 1.62s\n",
            "400:\tlearn: 0.0748602\ttotal: 1.08s\tremaining: 1.62s\n",
            "401:\tlearn: 0.0745660\ttotal: 1.09s\tremaining: 1.62s\n",
            "402:\tlearn: 0.0745301\ttotal: 1.09s\tremaining: 1.61s\n",
            "403:\tlearn: 0.0742743\ttotal: 1.09s\tremaining: 1.61s\n",
            "404:\tlearn: 0.0742432\ttotal: 1.09s\tremaining: 1.6s\n",
            "405:\tlearn: 0.0741920\ttotal: 1.09s\tremaining: 1.6s\n",
            "406:\tlearn: 0.0741005\ttotal: 1.1s\tremaining: 1.6s\n",
            "407:\tlearn: 0.0739065\ttotal: 1.1s\tremaining: 1.59s\n",
            "408:\tlearn: 0.0737431\ttotal: 1.1s\tremaining: 1.59s\n",
            "409:\tlearn: 0.0736977\ttotal: 1.1s\tremaining: 1.59s\n",
            "410:\tlearn: 0.0734821\ttotal: 1.11s\tremaining: 1.58s\n",
            "411:\tlearn: 0.0734226\ttotal: 1.11s\tremaining: 1.58s\n",
            "412:\tlearn: 0.0733542\ttotal: 1.11s\tremaining: 1.58s\n",
            "413:\tlearn: 0.0732721\ttotal: 1.11s\tremaining: 1.58s\n",
            "414:\tlearn: 0.0732435\ttotal: 1.12s\tremaining: 1.57s\n",
            "415:\tlearn: 0.0732063\ttotal: 1.12s\tremaining: 1.57s\n",
            "416:\tlearn: 0.0731492\ttotal: 1.12s\tremaining: 1.57s\n",
            "417:\tlearn: 0.0730810\ttotal: 1.12s\tremaining: 1.56s\n",
            "418:\tlearn: 0.0729927\ttotal: 1.13s\tremaining: 1.56s\n",
            "419:\tlearn: 0.0729250\ttotal: 1.13s\tremaining: 1.56s\n",
            "420:\tlearn: 0.0728460\ttotal: 1.13s\tremaining: 1.55s\n",
            "421:\tlearn: 0.0728269\ttotal: 1.13s\tremaining: 1.55s\n",
            "422:\tlearn: 0.0727298\ttotal: 1.14s\tremaining: 1.55s\n",
            "423:\tlearn: 0.0725271\ttotal: 1.14s\tremaining: 1.55s\n",
            "424:\tlearn: 0.0724708\ttotal: 1.15s\tremaining: 1.55s\n",
            "425:\tlearn: 0.0724395\ttotal: 1.15s\tremaining: 1.55s\n",
            "426:\tlearn: 0.0724256\ttotal: 1.15s\tremaining: 1.55s\n",
            "427:\tlearn: 0.0723659\ttotal: 1.15s\tremaining: 1.54s\n",
            "428:\tlearn: 0.0722773\ttotal: 1.16s\tremaining: 1.54s\n",
            "429:\tlearn: 0.0722623\ttotal: 1.16s\tremaining: 1.54s\n",
            "430:\tlearn: 0.0722490\ttotal: 1.16s\tremaining: 1.53s\n",
            "431:\tlearn: 0.0720817\ttotal: 1.17s\tremaining: 1.53s\n",
            "432:\tlearn: 0.0720335\ttotal: 1.17s\tremaining: 1.53s\n",
            "433:\tlearn: 0.0720010\ttotal: 1.17s\tremaining: 1.52s\n",
            "434:\tlearn: 0.0719264\ttotal: 1.17s\tremaining: 1.52s\n",
            "435:\tlearn: 0.0718412\ttotal: 1.18s\tremaining: 1.52s\n",
            "436:\tlearn: 0.0718128\ttotal: 1.18s\tremaining: 1.52s\n",
            "437:\tlearn: 0.0717460\ttotal: 1.18s\tremaining: 1.51s\n",
            "438:\tlearn: 0.0716479\ttotal: 1.18s\tremaining: 1.51s\n",
            "439:\tlearn: 0.0716113\ttotal: 1.18s\tremaining: 1.51s\n",
            "440:\tlearn: 0.0715373\ttotal: 1.19s\tremaining: 1.5s\n",
            "441:\tlearn: 0.0714787\ttotal: 1.19s\tremaining: 1.5s\n",
            "442:\tlearn: 0.0714415\ttotal: 1.19s\tremaining: 1.5s\n",
            "443:\tlearn: 0.0712938\ttotal: 1.19s\tremaining: 1.5s\n",
            "444:\tlearn: 0.0712230\ttotal: 1.2s\tremaining: 1.49s\n",
            "445:\tlearn: 0.0711574\ttotal: 1.2s\tremaining: 1.49s\n",
            "446:\tlearn: 0.0710723\ttotal: 1.2s\tremaining: 1.49s\n",
            "447:\tlearn: 0.0710631\ttotal: 1.2s\tremaining: 1.48s\n",
            "448:\tlearn: 0.0710189\ttotal: 1.21s\tremaining: 1.48s\n",
            "449:\tlearn: 0.0709814\ttotal: 1.21s\tremaining: 1.48s\n",
            "450:\tlearn: 0.0709063\ttotal: 1.21s\tremaining: 1.48s\n",
            "451:\tlearn: 0.0708006\ttotal: 1.21s\tremaining: 1.47s\n",
            "452:\tlearn: 0.0707615\ttotal: 1.22s\tremaining: 1.47s\n",
            "453:\tlearn: 0.0707220\ttotal: 1.22s\tremaining: 1.47s\n",
            "454:\tlearn: 0.0706676\ttotal: 1.22s\tremaining: 1.46s\n",
            "455:\tlearn: 0.0706256\ttotal: 1.22s\tremaining: 1.46s\n",
            "456:\tlearn: 0.0706097\ttotal: 1.23s\tremaining: 1.46s\n",
            "457:\tlearn: 0.0705211\ttotal: 1.23s\tremaining: 1.45s\n",
            "458:\tlearn: 0.0704768\ttotal: 1.23s\tremaining: 1.45s\n",
            "459:\tlearn: 0.0702759\ttotal: 1.24s\tremaining: 1.45s\n",
            "460:\tlearn: 0.0701895\ttotal: 1.24s\tremaining: 1.46s\n",
            "461:\tlearn: 0.0700075\ttotal: 1.25s\tremaining: 1.45s\n",
            "462:\tlearn: 0.0699705\ttotal: 1.25s\tremaining: 1.45s\n",
            "463:\tlearn: 0.0699336\ttotal: 1.25s\tremaining: 1.45s\n",
            "464:\tlearn: 0.0698728\ttotal: 1.25s\tremaining: 1.44s\n",
            "465:\tlearn: 0.0698288\ttotal: 1.26s\tremaining: 1.44s\n",
            "466:\tlearn: 0.0697760\ttotal: 1.26s\tremaining: 1.44s\n",
            "467:\tlearn: 0.0697280\ttotal: 1.26s\tremaining: 1.43s\n",
            "468:\tlearn: 0.0695957\ttotal: 1.26s\tremaining: 1.43s\n",
            "469:\tlearn: 0.0695551\ttotal: 1.26s\tremaining: 1.43s\n",
            "470:\tlearn: 0.0695394\ttotal: 1.27s\tremaining: 1.42s\n",
            "471:\tlearn: 0.0693574\ttotal: 1.27s\tremaining: 1.42s\n",
            "472:\tlearn: 0.0693493\ttotal: 1.27s\tremaining: 1.42s\n",
            "473:\tlearn: 0.0692744\ttotal: 1.27s\tremaining: 1.42s\n",
            "474:\tlearn: 0.0692323\ttotal: 1.28s\tremaining: 1.41s\n",
            "475:\tlearn: 0.0690689\ttotal: 1.28s\tremaining: 1.41s\n",
            "476:\tlearn: 0.0690205\ttotal: 1.28s\tremaining: 1.41s\n",
            "477:\tlearn: 0.0689891\ttotal: 1.28s\tremaining: 1.4s\n",
            "478:\tlearn: 0.0689475\ttotal: 1.29s\tremaining: 1.4s\n",
            "479:\tlearn: 0.0688591\ttotal: 1.29s\tremaining: 1.4s\n",
            "480:\tlearn: 0.0687242\ttotal: 1.29s\tremaining: 1.39s\n",
            "481:\tlearn: 0.0686843\ttotal: 1.29s\tremaining: 1.39s\n",
            "482:\tlearn: 0.0686024\ttotal: 1.3s\tremaining: 1.39s\n",
            "483:\tlearn: 0.0685927\ttotal: 1.3s\tremaining: 1.39s\n",
            "484:\tlearn: 0.0685528\ttotal: 1.3s\tremaining: 1.38s\n",
            "485:\tlearn: 0.0684189\ttotal: 1.3s\tremaining: 1.38s\n",
            "486:\tlearn: 0.0683771\ttotal: 1.31s\tremaining: 1.38s\n",
            "487:\tlearn: 0.0683465\ttotal: 1.31s\tremaining: 1.37s\n",
            "488:\tlearn: 0.0683012\ttotal: 1.31s\tremaining: 1.37s\n",
            "489:\tlearn: 0.0681797\ttotal: 1.32s\tremaining: 1.37s\n",
            "490:\tlearn: 0.0681664\ttotal: 1.32s\tremaining: 1.37s\n",
            "491:\tlearn: 0.0681511\ttotal: 1.33s\tremaining: 1.37s\n",
            "492:\tlearn: 0.0681238\ttotal: 1.33s\tremaining: 1.37s\n",
            "493:\tlearn: 0.0680874\ttotal: 1.34s\tremaining: 1.37s\n",
            "494:\tlearn: 0.0680412\ttotal: 1.34s\tremaining: 1.37s\n",
            "495:\tlearn: 0.0679389\ttotal: 1.34s\tremaining: 1.36s\n",
            "496:\tlearn: 0.0678989\ttotal: 1.34s\tremaining: 1.36s\n",
            "497:\tlearn: 0.0678631\ttotal: 1.35s\tremaining: 1.36s\n",
            "498:\tlearn: 0.0678219\ttotal: 1.35s\tremaining: 1.35s\n",
            "499:\tlearn: 0.0677142\ttotal: 1.35s\tremaining: 1.35s\n",
            "500:\tlearn: 0.0675848\ttotal: 1.35s\tremaining: 1.35s\n",
            "501:\tlearn: 0.0674974\ttotal: 1.36s\tremaining: 1.34s\n",
            "502:\tlearn: 0.0674727\ttotal: 1.36s\tremaining: 1.34s\n",
            "503:\tlearn: 0.0674382\ttotal: 1.36s\tremaining: 1.34s\n",
            "504:\tlearn: 0.0673678\ttotal: 1.36s\tremaining: 1.34s\n",
            "505:\tlearn: 0.0672629\ttotal: 1.37s\tremaining: 1.33s\n",
            "506:\tlearn: 0.0672244\ttotal: 1.37s\tremaining: 1.33s\n",
            "507:\tlearn: 0.0670608\ttotal: 1.37s\tremaining: 1.33s\n",
            "508:\tlearn: 0.0669930\ttotal: 1.37s\tremaining: 1.32s\n",
            "509:\tlearn: 0.0669603\ttotal: 1.38s\tremaining: 1.32s\n",
            "510:\tlearn: 0.0669093\ttotal: 1.38s\tremaining: 1.32s\n",
            "511:\tlearn: 0.0668708\ttotal: 1.38s\tremaining: 1.32s\n",
            "512:\tlearn: 0.0668388\ttotal: 1.38s\tremaining: 1.31s\n",
            "513:\tlearn: 0.0668142\ttotal: 1.39s\tremaining: 1.31s\n",
            "514:\tlearn: 0.0668027\ttotal: 1.39s\tremaining: 1.31s\n",
            "515:\tlearn: 0.0666842\ttotal: 1.39s\tremaining: 1.3s\n",
            "516:\tlearn: 0.0665737\ttotal: 1.39s\tremaining: 1.3s\n",
            "517:\tlearn: 0.0665390\ttotal: 1.4s\tremaining: 1.3s\n",
            "518:\tlearn: 0.0665157\ttotal: 1.4s\tremaining: 1.3s\n",
            "519:\tlearn: 0.0664126\ttotal: 1.4s\tremaining: 1.29s\n",
            "520:\tlearn: 0.0662792\ttotal: 1.4s\tremaining: 1.29s\n",
            "521:\tlearn: 0.0662478\ttotal: 1.41s\tremaining: 1.29s\n",
            "522:\tlearn: 0.0661042\ttotal: 1.41s\tremaining: 1.28s\n",
            "523:\tlearn: 0.0660686\ttotal: 1.41s\tremaining: 1.28s\n",
            "524:\tlearn: 0.0659725\ttotal: 1.41s\tremaining: 1.28s\n",
            "525:\tlearn: 0.0658984\ttotal: 1.42s\tremaining: 1.27s\n",
            "526:\tlearn: 0.0657806\ttotal: 1.42s\tremaining: 1.27s\n",
            "527:\tlearn: 0.0656847\ttotal: 1.42s\tremaining: 1.27s\n",
            "528:\tlearn: 0.0654425\ttotal: 1.42s\tremaining: 1.27s\n",
            "529:\tlearn: 0.0653655\ttotal: 1.43s\tremaining: 1.26s\n",
            "530:\tlearn: 0.0653123\ttotal: 1.43s\tremaining: 1.26s\n",
            "531:\tlearn: 0.0652480\ttotal: 1.43s\tremaining: 1.26s\n",
            "532:\tlearn: 0.0652159\ttotal: 1.43s\tremaining: 1.26s\n",
            "533:\tlearn: 0.0652050\ttotal: 1.44s\tremaining: 1.25s\n",
            "534:\tlearn: 0.0651949\ttotal: 1.44s\tremaining: 1.25s\n",
            "535:\tlearn: 0.0651766\ttotal: 1.44s\tremaining: 1.25s\n",
            "536:\tlearn: 0.0651541\ttotal: 1.44s\tremaining: 1.24s\n",
            "537:\tlearn: 0.0650856\ttotal: 1.45s\tremaining: 1.24s\n",
            "538:\tlearn: 0.0650197\ttotal: 1.45s\tremaining: 1.24s\n",
            "539:\tlearn: 0.0649903\ttotal: 1.45s\tremaining: 1.24s\n",
            "540:\tlearn: 0.0649584\ttotal: 1.45s\tremaining: 1.23s\n",
            "541:\tlearn: 0.0649290\ttotal: 1.46s\tremaining: 1.23s\n",
            "542:\tlearn: 0.0649191\ttotal: 1.46s\tremaining: 1.23s\n",
            "543:\tlearn: 0.0648545\ttotal: 1.46s\tremaining: 1.22s\n",
            "544:\tlearn: 0.0648272\ttotal: 1.46s\tremaining: 1.22s\n",
            "545:\tlearn: 0.0648086\ttotal: 1.47s\tremaining: 1.22s\n",
            "546:\tlearn: 0.0647921\ttotal: 1.47s\tremaining: 1.22s\n",
            "547:\tlearn: 0.0647480\ttotal: 1.47s\tremaining: 1.21s\n",
            "548:\tlearn: 0.0647408\ttotal: 1.47s\tremaining: 1.21s\n",
            "549:\tlearn: 0.0647143\ttotal: 1.48s\tremaining: 1.21s\n",
            "550:\tlearn: 0.0647058\ttotal: 1.48s\tremaining: 1.2s\n",
            "551:\tlearn: 0.0645598\ttotal: 1.48s\tremaining: 1.2s\n",
            "552:\tlearn: 0.0645041\ttotal: 1.48s\tremaining: 1.2s\n",
            "553:\tlearn: 0.0644768\ttotal: 1.48s\tremaining: 1.2s\n",
            "554:\tlearn: 0.0643858\ttotal: 1.49s\tremaining: 1.19s\n",
            "555:\tlearn: 0.0643246\ttotal: 1.49s\tremaining: 1.19s\n",
            "556:\tlearn: 0.0643012\ttotal: 1.49s\tremaining: 1.19s\n",
            "557:\tlearn: 0.0642955\ttotal: 1.49s\tremaining: 1.18s\n",
            "558:\tlearn: 0.0642804\ttotal: 1.5s\tremaining: 1.18s\n",
            "559:\tlearn: 0.0642158\ttotal: 1.5s\tremaining: 1.18s\n",
            "560:\tlearn: 0.0642011\ttotal: 1.5s\tremaining: 1.17s\n",
            "561:\tlearn: 0.0641764\ttotal: 1.5s\tremaining: 1.17s\n",
            "562:\tlearn: 0.0641415\ttotal: 1.51s\tremaining: 1.17s\n",
            "563:\tlearn: 0.0640658\ttotal: 1.51s\tremaining: 1.17s\n",
            "564:\tlearn: 0.0640115\ttotal: 1.51s\tremaining: 1.16s\n",
            "565:\tlearn: 0.0639982\ttotal: 1.51s\tremaining: 1.16s\n",
            "566:\tlearn: 0.0639912\ttotal: 1.51s\tremaining: 1.16s\n",
            "567:\tlearn: 0.0639669\ttotal: 1.52s\tremaining: 1.15s\n",
            "568:\tlearn: 0.0638316\ttotal: 1.52s\tremaining: 1.15s\n",
            "569:\tlearn: 0.0638108\ttotal: 1.53s\tremaining: 1.15s\n",
            "570:\tlearn: 0.0638007\ttotal: 1.53s\tremaining: 1.15s\n",
            "571:\tlearn: 0.0637961\ttotal: 1.53s\tremaining: 1.15s\n",
            "572:\tlearn: 0.0637258\ttotal: 1.53s\tremaining: 1.14s\n",
            "573:\tlearn: 0.0637031\ttotal: 1.53s\tremaining: 1.14s\n",
            "574:\tlearn: 0.0636846\ttotal: 1.54s\tremaining: 1.14s\n",
            "575:\tlearn: 0.0636762\ttotal: 1.54s\tremaining: 1.13s\n",
            "576:\tlearn: 0.0636283\ttotal: 1.54s\tremaining: 1.13s\n",
            "577:\tlearn: 0.0635993\ttotal: 1.54s\tremaining: 1.13s\n",
            "578:\tlearn: 0.0634728\ttotal: 1.54s\tremaining: 1.12s\n",
            "579:\tlearn: 0.0634521\ttotal: 1.55s\tremaining: 1.12s\n",
            "580:\tlearn: 0.0634188\ttotal: 1.55s\tremaining: 1.12s\n",
            "581:\tlearn: 0.0633286\ttotal: 1.55s\tremaining: 1.11s\n",
            "582:\tlearn: 0.0632931\ttotal: 1.55s\tremaining: 1.11s\n",
            "583:\tlearn: 0.0632832\ttotal: 1.56s\tremaining: 1.11s\n",
            "584:\tlearn: 0.0632312\ttotal: 1.56s\tremaining: 1.1s\n",
            "585:\tlearn: 0.0632232\ttotal: 1.56s\tremaining: 1.1s\n",
            "586:\tlearn: 0.0631837\ttotal: 1.56s\tremaining: 1.1s\n",
            "587:\tlearn: 0.0630650\ttotal: 1.56s\tremaining: 1.1s\n",
            "588:\tlearn: 0.0630448\ttotal: 1.57s\tremaining: 1.09s\n",
            "589:\tlearn: 0.0630191\ttotal: 1.57s\tremaining: 1.09s\n",
            "590:\tlearn: 0.0629831\ttotal: 1.57s\tremaining: 1.09s\n",
            "591:\tlearn: 0.0629509\ttotal: 1.57s\tremaining: 1.08s\n",
            "592:\tlearn: 0.0628454\ttotal: 1.58s\tremaining: 1.08s\n",
            "593:\tlearn: 0.0628351\ttotal: 1.58s\tremaining: 1.08s\n",
            "594:\tlearn: 0.0628198\ttotal: 1.58s\tremaining: 1.08s\n",
            "595:\tlearn: 0.0627929\ttotal: 1.58s\tremaining: 1.07s\n",
            "596:\tlearn: 0.0627329\ttotal: 1.59s\tremaining: 1.07s\n",
            "597:\tlearn: 0.0627227\ttotal: 1.59s\tremaining: 1.07s\n",
            "598:\tlearn: 0.0627042\ttotal: 1.59s\tremaining: 1.06s\n",
            "599:\tlearn: 0.0626056\ttotal: 1.59s\tremaining: 1.06s\n",
            "600:\tlearn: 0.0624782\ttotal: 1.6s\tremaining: 1.06s\n",
            "601:\tlearn: 0.0623808\ttotal: 1.6s\tremaining: 1.06s\n",
            "602:\tlearn: 0.0623625\ttotal: 1.6s\tremaining: 1.05s\n",
            "603:\tlearn: 0.0623487\ttotal: 1.6s\tremaining: 1.05s\n",
            "604:\tlearn: 0.0621711\ttotal: 1.61s\tremaining: 1.05s\n",
            "605:\tlearn: 0.0620484\ttotal: 1.61s\tremaining: 1.05s\n",
            "606:\tlearn: 0.0619622\ttotal: 1.61s\tremaining: 1.04s\n",
            "607:\tlearn: 0.0619453\ttotal: 1.61s\tremaining: 1.04s\n",
            "608:\tlearn: 0.0617878\ttotal: 1.62s\tremaining: 1.04s\n",
            "609:\tlearn: 0.0616608\ttotal: 1.62s\tremaining: 1.03s\n",
            "610:\tlearn: 0.0616179\ttotal: 1.62s\tremaining: 1.03s\n",
            "611:\tlearn: 0.0614700\ttotal: 1.62s\tremaining: 1.03s\n",
            "612:\tlearn: 0.0614304\ttotal: 1.63s\tremaining: 1.03s\n",
            "613:\tlearn: 0.0614177\ttotal: 1.63s\tremaining: 1.02s\n",
            "614:\tlearn: 0.0613781\ttotal: 1.63s\tremaining: 1.02s\n",
            "615:\tlearn: 0.0612038\ttotal: 1.64s\tremaining: 1.02s\n",
            "616:\tlearn: 0.0611772\ttotal: 1.64s\tremaining: 1.02s\n",
            "617:\tlearn: 0.0611347\ttotal: 1.64s\tremaining: 1.01s\n",
            "618:\tlearn: 0.0610979\ttotal: 1.64s\tremaining: 1.01s\n",
            "619:\tlearn: 0.0610730\ttotal: 1.65s\tremaining: 1.01s\n",
            "620:\tlearn: 0.0610093\ttotal: 1.65s\tremaining: 1s\n",
            "621:\tlearn: 0.0609228\ttotal: 1.66s\tremaining: 1.01s\n",
            "622:\tlearn: 0.0609073\ttotal: 1.66s\tremaining: 1s\n",
            "623:\tlearn: 0.0608906\ttotal: 1.67s\tremaining: 1s\n",
            "624:\tlearn: 0.0608491\ttotal: 1.67s\tremaining: 1s\n",
            "625:\tlearn: 0.0607920\ttotal: 1.67s\tremaining: 999ms\n",
            "626:\tlearn: 0.0607769\ttotal: 1.68s\tremaining: 997ms\n",
            "627:\tlearn: 0.0607578\ttotal: 1.68s\tremaining: 995ms\n",
            "628:\tlearn: 0.0606819\ttotal: 1.69s\tremaining: 994ms\n",
            "629:\tlearn: 0.0606706\ttotal: 1.69s\tremaining: 994ms\n",
            "630:\tlearn: 0.0605996\ttotal: 1.7s\tremaining: 993ms\n",
            "631:\tlearn: 0.0605658\ttotal: 1.7s\tremaining: 992ms\n",
            "632:\tlearn: 0.0605519\ttotal: 1.71s\tremaining: 993ms\n",
            "633:\tlearn: 0.0604949\ttotal: 1.72s\tremaining: 991ms\n",
            "634:\tlearn: 0.0603835\ttotal: 1.72s\tremaining: 990ms\n",
            "635:\tlearn: 0.0603710\ttotal: 1.73s\tremaining: 989ms\n",
            "636:\tlearn: 0.0603167\ttotal: 1.73s\tremaining: 989ms\n",
            "637:\tlearn: 0.0602028\ttotal: 1.74s\tremaining: 989ms\n",
            "638:\tlearn: 0.0601804\ttotal: 1.75s\tremaining: 987ms\n",
            "639:\tlearn: 0.0601031\ttotal: 1.75s\tremaining: 986ms\n",
            "640:\tlearn: 0.0600956\ttotal: 1.76s\tremaining: 986ms\n",
            "641:\tlearn: 0.0600660\ttotal: 1.77s\tremaining: 985ms\n",
            "642:\tlearn: 0.0600520\ttotal: 1.77s\tremaining: 986ms\n",
            "643:\tlearn: 0.0600158\ttotal: 1.78s\tremaining: 983ms\n",
            "644:\tlearn: 0.0599457\ttotal: 1.78s\tremaining: 982ms\n",
            "645:\tlearn: 0.0598443\ttotal: 1.79s\tremaining: 981ms\n",
            "646:\tlearn: 0.0598327\ttotal: 1.8s\tremaining: 980ms\n",
            "647:\tlearn: 0.0598011\ttotal: 1.8s\tremaining: 980ms\n",
            "648:\tlearn: 0.0597745\ttotal: 1.81s\tremaining: 978ms\n",
            "649:\tlearn: 0.0597559\ttotal: 1.81s\tremaining: 977ms\n",
            "650:\tlearn: 0.0597443\ttotal: 1.82s\tremaining: 975ms\n",
            "651:\tlearn: 0.0596990\ttotal: 1.82s\tremaining: 973ms\n",
            "652:\tlearn: 0.0596370\ttotal: 1.83s\tremaining: 972ms\n",
            "653:\tlearn: 0.0595509\ttotal: 1.84s\tremaining: 972ms\n",
            "654:\tlearn: 0.0595460\ttotal: 1.84s\tremaining: 971ms\n",
            "655:\tlearn: 0.0595372\ttotal: 1.85s\tremaining: 970ms\n",
            "656:\tlearn: 0.0595144\ttotal: 1.85s\tremaining: 969ms\n",
            "657:\tlearn: 0.0594678\ttotal: 1.86s\tremaining: 968ms\n",
            "658:\tlearn: 0.0594135\ttotal: 1.87s\tremaining: 967ms\n",
            "659:\tlearn: 0.0592527\ttotal: 1.87s\tremaining: 966ms\n",
            "660:\tlearn: 0.0592426\ttotal: 1.88s\tremaining: 965ms\n",
            "661:\tlearn: 0.0589931\ttotal: 1.89s\tremaining: 964ms\n",
            "662:\tlearn: 0.0589758\ttotal: 1.89s\tremaining: 961ms\n",
            "663:\tlearn: 0.0589274\ttotal: 1.89s\tremaining: 958ms\n",
            "664:\tlearn: 0.0588938\ttotal: 1.9s\tremaining: 956ms\n",
            "665:\tlearn: 0.0588756\ttotal: 1.9s\tremaining: 953ms\n",
            "666:\tlearn: 0.0587977\ttotal: 1.9s\tremaining: 950ms\n",
            "667:\tlearn: 0.0586498\ttotal: 1.91s\tremaining: 947ms\n",
            "668:\tlearn: 0.0585587\ttotal: 1.91s\tremaining: 945ms\n",
            "669:\tlearn: 0.0584194\ttotal: 1.91s\tremaining: 941ms\n",
            "670:\tlearn: 0.0583821\ttotal: 1.91s\tremaining: 938ms\n",
            "671:\tlearn: 0.0583393\ttotal: 1.92s\tremaining: 935ms\n",
            "672:\tlearn: 0.0583083\ttotal: 1.92s\tremaining: 933ms\n",
            "673:\tlearn: 0.0582830\ttotal: 1.92s\tremaining: 930ms\n",
            "674:\tlearn: 0.0582533\ttotal: 1.92s\tremaining: 927ms\n",
            "675:\tlearn: 0.0582219\ttotal: 1.93s\tremaining: 923ms\n",
            "676:\tlearn: 0.0581989\ttotal: 1.93s\tremaining: 920ms\n",
            "677:\tlearn: 0.0581785\ttotal: 1.93s\tremaining: 917ms\n",
            "678:\tlearn: 0.0581681\ttotal: 1.93s\tremaining: 914ms\n",
            "679:\tlearn: 0.0581437\ttotal: 1.94s\tremaining: 911ms\n",
            "680:\tlearn: 0.0581187\ttotal: 1.94s\tremaining: 907ms\n",
            "681:\tlearn: 0.0580839\ttotal: 1.94s\tremaining: 904ms\n",
            "682:\tlearn: 0.0580614\ttotal: 1.94s\tremaining: 901ms\n",
            "683:\tlearn: 0.0580397\ttotal: 1.95s\tremaining: 899ms\n",
            "684:\tlearn: 0.0577453\ttotal: 1.95s\tremaining: 896ms\n",
            "685:\tlearn: 0.0575396\ttotal: 1.95s\tremaining: 893ms\n",
            "686:\tlearn: 0.0575228\ttotal: 1.95s\tremaining: 890ms\n",
            "687:\tlearn: 0.0573489\ttotal: 1.96s\tremaining: 887ms\n",
            "688:\tlearn: 0.0573327\ttotal: 1.96s\tremaining: 884ms\n",
            "689:\tlearn: 0.0572835\ttotal: 1.96s\tremaining: 881ms\n",
            "690:\tlearn: 0.0572690\ttotal: 1.96s\tremaining: 878ms\n",
            "691:\tlearn: 0.0572407\ttotal: 1.97s\tremaining: 875ms\n",
            "692:\tlearn: 0.0572151\ttotal: 1.97s\tremaining: 872ms\n",
            "693:\tlearn: 0.0571909\ttotal: 1.97s\tremaining: 869ms\n",
            "694:\tlearn: 0.0571496\ttotal: 1.97s\tremaining: 866ms\n",
            "695:\tlearn: 0.0571243\ttotal: 1.97s\tremaining: 863ms\n",
            "696:\tlearn: 0.0570947\ttotal: 1.98s\tremaining: 860ms\n",
            "697:\tlearn: 0.0570763\ttotal: 1.98s\tremaining: 857ms\n",
            "698:\tlearn: 0.0570561\ttotal: 1.98s\tremaining: 853ms\n",
            "699:\tlearn: 0.0569834\ttotal: 1.98s\tremaining: 850ms\n",
            "700:\tlearn: 0.0569775\ttotal: 1.99s\tremaining: 847ms\n",
            "701:\tlearn: 0.0569591\ttotal: 1.99s\tremaining: 844ms\n",
            "702:\tlearn: 0.0569182\ttotal: 1.99s\tremaining: 841ms\n",
            "703:\tlearn: 0.0568896\ttotal: 1.99s\tremaining: 838ms\n",
            "704:\tlearn: 0.0568631\ttotal: 2s\tremaining: 835ms\n",
            "705:\tlearn: 0.0568331\ttotal: 2s\tremaining: 832ms\n",
            "706:\tlearn: 0.0568093\ttotal: 2s\tremaining: 829ms\n",
            "707:\tlearn: 0.0567836\ttotal: 2s\tremaining: 826ms\n",
            "708:\tlearn: 0.0567628\ttotal: 2.01s\tremaining: 823ms\n",
            "709:\tlearn: 0.0567297\ttotal: 2.01s\tremaining: 820ms\n",
            "710:\tlearn: 0.0567181\ttotal: 2.01s\tremaining: 817ms\n",
            "711:\tlearn: 0.0567093\ttotal: 2.01s\tremaining: 814ms\n",
            "712:\tlearn: 0.0566841\ttotal: 2.02s\tremaining: 811ms\n",
            "713:\tlearn: 0.0566067\ttotal: 2.02s\tremaining: 808ms\n",
            "714:\tlearn: 0.0565930\ttotal: 2.02s\tremaining: 805ms\n",
            "715:\tlearn: 0.0565677\ttotal: 2.02s\tremaining: 802ms\n",
            "716:\tlearn: 0.0565488\ttotal: 2.02s\tremaining: 799ms\n",
            "717:\tlearn: 0.0565298\ttotal: 2.03s\tremaining: 796ms\n",
            "718:\tlearn: 0.0565169\ttotal: 2.03s\tremaining: 794ms\n",
            "719:\tlearn: 0.0565069\ttotal: 2.03s\tremaining: 791ms\n",
            "720:\tlearn: 0.0564836\ttotal: 2.04s\tremaining: 788ms\n",
            "721:\tlearn: 0.0564473\ttotal: 2.04s\tremaining: 785ms\n",
            "722:\tlearn: 0.0563664\ttotal: 2.04s\tremaining: 782ms\n",
            "723:\tlearn: 0.0563322\ttotal: 2.04s\tremaining: 779ms\n",
            "724:\tlearn: 0.0562965\ttotal: 2.04s\tremaining: 776ms\n",
            "725:\tlearn: 0.0562717\ttotal: 2.05s\tremaining: 773ms\n",
            "726:\tlearn: 0.0561989\ttotal: 2.05s\tremaining: 770ms\n",
            "727:\tlearn: 0.0561806\ttotal: 2.05s\tremaining: 767ms\n",
            "728:\tlearn: 0.0561766\ttotal: 2.05s\tremaining: 764ms\n",
            "729:\tlearn: 0.0561470\ttotal: 2.06s\tremaining: 761ms\n",
            "730:\tlearn: 0.0561435\ttotal: 2.06s\tremaining: 758ms\n",
            "731:\tlearn: 0.0561264\ttotal: 2.06s\tremaining: 755ms\n",
            "732:\tlearn: 0.0561023\ttotal: 2.06s\tremaining: 752ms\n",
            "733:\tlearn: 0.0560695\ttotal: 2.07s\tremaining: 749ms\n",
            "734:\tlearn: 0.0560349\ttotal: 2.07s\tremaining: 746ms\n",
            "735:\tlearn: 0.0560094\ttotal: 2.07s\tremaining: 743ms\n",
            "736:\tlearn: 0.0559179\ttotal: 2.07s\tremaining: 740ms\n",
            "737:\tlearn: 0.0558311\ttotal: 2.08s\tremaining: 737ms\n",
            "738:\tlearn: 0.0557856\ttotal: 2.08s\tremaining: 734ms\n",
            "739:\tlearn: 0.0556420\ttotal: 2.08s\tremaining: 731ms\n",
            "740:\tlearn: 0.0556292\ttotal: 2.09s\tremaining: 730ms\n",
            "741:\tlearn: 0.0556211\ttotal: 2.09s\tremaining: 728ms\n",
            "742:\tlearn: 0.0556163\ttotal: 2.1s\tremaining: 725ms\n",
            "743:\tlearn: 0.0555815\ttotal: 2.1s\tremaining: 722ms\n",
            "744:\tlearn: 0.0555486\ttotal: 2.1s\tremaining: 719ms\n",
            "745:\tlearn: 0.0555416\ttotal: 2.1s\tremaining: 716ms\n",
            "746:\tlearn: 0.0555113\ttotal: 2.1s\tremaining: 713ms\n",
            "747:\tlearn: 0.0554821\ttotal: 2.11s\tremaining: 710ms\n",
            "748:\tlearn: 0.0554801\ttotal: 2.11s\tremaining: 707ms\n",
            "749:\tlearn: 0.0554486\ttotal: 2.11s\tremaining: 704ms\n",
            "750:\tlearn: 0.0553263\ttotal: 2.11s\tremaining: 701ms\n",
            "751:\tlearn: 0.0553052\ttotal: 2.12s\tremaining: 698ms\n",
            "752:\tlearn: 0.0552761\ttotal: 2.12s\tremaining: 695ms\n",
            "753:\tlearn: 0.0552544\ttotal: 2.12s\tremaining: 692ms\n",
            "754:\tlearn: 0.0551745\ttotal: 2.12s\tremaining: 689ms\n",
            "755:\tlearn: 0.0551321\ttotal: 2.13s\tremaining: 686ms\n",
            "756:\tlearn: 0.0551143\ttotal: 2.13s\tremaining: 684ms\n",
            "757:\tlearn: 0.0551100\ttotal: 2.13s\tremaining: 681ms\n",
            "758:\tlearn: 0.0550827\ttotal: 2.13s\tremaining: 678ms\n",
            "759:\tlearn: 0.0550638\ttotal: 2.14s\tremaining: 675ms\n",
            "760:\tlearn: 0.0549852\ttotal: 2.14s\tremaining: 672ms\n",
            "761:\tlearn: 0.0549605\ttotal: 2.14s\tremaining: 669ms\n",
            "762:\tlearn: 0.0549325\ttotal: 2.14s\tremaining: 666ms\n",
            "763:\tlearn: 0.0549037\ttotal: 2.15s\tremaining: 663ms\n",
            "764:\tlearn: 0.0548636\ttotal: 2.15s\tremaining: 660ms\n",
            "765:\tlearn: 0.0548332\ttotal: 2.15s\tremaining: 657ms\n",
            "766:\tlearn: 0.0548060\ttotal: 2.15s\tremaining: 654ms\n",
            "767:\tlearn: 0.0547194\ttotal: 2.16s\tremaining: 651ms\n",
            "768:\tlearn: 0.0545958\ttotal: 2.16s\tremaining: 649ms\n",
            "769:\tlearn: 0.0545764\ttotal: 2.16s\tremaining: 646ms\n",
            "770:\tlearn: 0.0545138\ttotal: 2.16s\tremaining: 643ms\n",
            "771:\tlearn: 0.0544775\ttotal: 2.17s\tremaining: 640ms\n",
            "772:\tlearn: 0.0544617\ttotal: 2.17s\tremaining: 637ms\n",
            "773:\tlearn: 0.0544540\ttotal: 2.17s\tremaining: 635ms\n",
            "774:\tlearn: 0.0544191\ttotal: 2.18s\tremaining: 632ms\n",
            "775:\tlearn: 0.0544128\ttotal: 2.19s\tremaining: 631ms\n",
            "776:\tlearn: 0.0543253\ttotal: 2.19s\tremaining: 628ms\n",
            "777:\tlearn: 0.0543145\ttotal: 2.19s\tremaining: 625ms\n",
            "778:\tlearn: 0.0543089\ttotal: 2.19s\tremaining: 622ms\n",
            "779:\tlearn: 0.0542756\ttotal: 2.19s\tremaining: 619ms\n",
            "780:\tlearn: 0.0542530\ttotal: 2.2s\tremaining: 616ms\n",
            "781:\tlearn: 0.0542152\ttotal: 2.2s\tremaining: 613ms\n",
            "782:\tlearn: 0.0542102\ttotal: 2.2s\tremaining: 610ms\n",
            "783:\tlearn: 0.0541831\ttotal: 2.2s\tremaining: 607ms\n",
            "784:\tlearn: 0.0541740\ttotal: 2.21s\tremaining: 604ms\n",
            "785:\tlearn: 0.0541666\ttotal: 2.21s\tremaining: 601ms\n",
            "786:\tlearn: 0.0541428\ttotal: 2.21s\tremaining: 598ms\n",
            "787:\tlearn: 0.0541263\ttotal: 2.21s\tremaining: 595ms\n",
            "788:\tlearn: 0.0541099\ttotal: 2.21s\tremaining: 592ms\n",
            "789:\tlearn: 0.0540876\ttotal: 2.21s\tremaining: 589ms\n",
            "790:\tlearn: 0.0540505\ttotal: 2.22s\tremaining: 586ms\n",
            "791:\tlearn: 0.0540356\ttotal: 2.22s\tremaining: 583ms\n",
            "792:\tlearn: 0.0539696\ttotal: 2.22s\tremaining: 580ms\n",
            "793:\tlearn: 0.0539284\ttotal: 2.23s\tremaining: 577ms\n",
            "794:\tlearn: 0.0539266\ttotal: 2.23s\tremaining: 574ms\n",
            "795:\tlearn: 0.0539234\ttotal: 2.23s\tremaining: 571ms\n",
            "796:\tlearn: 0.0539080\ttotal: 2.23s\tremaining: 569ms\n",
            "797:\tlearn: 0.0538873\ttotal: 2.23s\tremaining: 566ms\n",
            "798:\tlearn: 0.0538083\ttotal: 2.24s\tremaining: 563ms\n",
            "799:\tlearn: 0.0536949\ttotal: 2.24s\tremaining: 560ms\n",
            "800:\tlearn: 0.0535417\ttotal: 2.24s\tremaining: 557ms\n",
            "801:\tlearn: 0.0535145\ttotal: 2.24s\tremaining: 554ms\n",
            "802:\tlearn: 0.0534553\ttotal: 2.25s\tremaining: 551ms\n",
            "803:\tlearn: 0.0534537\ttotal: 2.25s\tremaining: 548ms\n",
            "804:\tlearn: 0.0534385\ttotal: 2.25s\tremaining: 546ms\n",
            "805:\tlearn: 0.0534285\ttotal: 2.25s\tremaining: 543ms\n",
            "806:\tlearn: 0.0533733\ttotal: 2.26s\tremaining: 540ms\n",
            "807:\tlearn: 0.0533597\ttotal: 2.26s\tremaining: 537ms\n",
            "808:\tlearn: 0.0533358\ttotal: 2.26s\tremaining: 534ms\n",
            "809:\tlearn: 0.0533167\ttotal: 2.26s\tremaining: 531ms\n",
            "810:\tlearn: 0.0533023\ttotal: 2.27s\tremaining: 528ms\n",
            "811:\tlearn: 0.0532323\ttotal: 2.27s\tremaining: 525ms\n",
            "812:\tlearn: 0.0532279\ttotal: 2.27s\tremaining: 523ms\n",
            "813:\tlearn: 0.0531204\ttotal: 2.27s\tremaining: 520ms\n",
            "814:\tlearn: 0.0531175\ttotal: 2.28s\tremaining: 518ms\n",
            "815:\tlearn: 0.0530916\ttotal: 2.28s\tremaining: 515ms\n",
            "816:\tlearn: 0.0530797\ttotal: 2.29s\tremaining: 512ms\n",
            "817:\tlearn: 0.0530686\ttotal: 2.29s\tremaining: 509ms\n",
            "818:\tlearn: 0.0530567\ttotal: 2.29s\tremaining: 506ms\n",
            "819:\tlearn: 0.0530375\ttotal: 2.29s\tremaining: 504ms\n",
            "820:\tlearn: 0.0530204\ttotal: 2.3s\tremaining: 501ms\n",
            "821:\tlearn: 0.0529958\ttotal: 2.3s\tremaining: 498ms\n",
            "822:\tlearn: 0.0529301\ttotal: 2.3s\tremaining: 495ms\n",
            "823:\tlearn: 0.0528940\ttotal: 2.3s\tremaining: 492ms\n",
            "824:\tlearn: 0.0528741\ttotal: 2.31s\tremaining: 489ms\n",
            "825:\tlearn: 0.0528578\ttotal: 2.31s\tremaining: 486ms\n",
            "826:\tlearn: 0.0528382\ttotal: 2.31s\tremaining: 483ms\n",
            "827:\tlearn: 0.0528203\ttotal: 2.31s\tremaining: 481ms\n",
            "828:\tlearn: 0.0527965\ttotal: 2.31s\tremaining: 478ms\n",
            "829:\tlearn: 0.0527696\ttotal: 2.32s\tremaining: 475ms\n",
            "830:\tlearn: 0.0527462\ttotal: 2.32s\tremaining: 472ms\n",
            "831:\tlearn: 0.0527282\ttotal: 2.32s\tremaining: 469ms\n",
            "832:\tlearn: 0.0527117\ttotal: 2.33s\tremaining: 466ms\n",
            "833:\tlearn: 0.0526973\ttotal: 2.33s\tremaining: 463ms\n",
            "834:\tlearn: 0.0526714\ttotal: 2.33s\tremaining: 460ms\n",
            "835:\tlearn: 0.0526621\ttotal: 2.33s\tremaining: 458ms\n",
            "836:\tlearn: 0.0526419\ttotal: 2.33s\tremaining: 455ms\n",
            "837:\tlearn: 0.0526073\ttotal: 2.34s\tremaining: 452ms\n",
            "838:\tlearn: 0.0525969\ttotal: 2.34s\tremaining: 450ms\n",
            "839:\tlearn: 0.0525819\ttotal: 2.35s\tremaining: 447ms\n",
            "840:\tlearn: 0.0525649\ttotal: 2.35s\tremaining: 444ms\n",
            "841:\tlearn: 0.0525081\ttotal: 2.35s\tremaining: 441ms\n",
            "842:\tlearn: 0.0524439\ttotal: 2.35s\tremaining: 438ms\n",
            "843:\tlearn: 0.0524385\ttotal: 2.36s\tremaining: 436ms\n",
            "844:\tlearn: 0.0523209\ttotal: 2.36s\tremaining: 433ms\n",
            "845:\tlearn: 0.0523170\ttotal: 2.36s\tremaining: 430ms\n",
            "846:\tlearn: 0.0523099\ttotal: 2.36s\tremaining: 427ms\n",
            "847:\tlearn: 0.0522960\ttotal: 2.37s\tremaining: 424ms\n",
            "848:\tlearn: 0.0522833\ttotal: 2.37s\tremaining: 421ms\n",
            "849:\tlearn: 0.0522797\ttotal: 2.37s\tremaining: 418ms\n",
            "850:\tlearn: 0.0522573\ttotal: 2.37s\tremaining: 415ms\n",
            "851:\tlearn: 0.0521983\ttotal: 2.38s\tremaining: 413ms\n",
            "852:\tlearn: 0.0521723\ttotal: 2.38s\tremaining: 410ms\n",
            "853:\tlearn: 0.0521430\ttotal: 2.38s\tremaining: 407ms\n",
            "854:\tlearn: 0.0520760\ttotal: 2.38s\tremaining: 404ms\n",
            "855:\tlearn: 0.0519008\ttotal: 2.38s\tremaining: 401ms\n",
            "856:\tlearn: 0.0518479\ttotal: 2.39s\tremaining: 398ms\n",
            "857:\tlearn: 0.0517968\ttotal: 2.39s\tremaining: 396ms\n",
            "858:\tlearn: 0.0517884\ttotal: 2.39s\tremaining: 393ms\n",
            "859:\tlearn: 0.0517561\ttotal: 2.39s\tremaining: 390ms\n",
            "860:\tlearn: 0.0517222\ttotal: 2.4s\tremaining: 387ms\n",
            "861:\tlearn: 0.0516270\ttotal: 2.4s\tremaining: 384ms\n",
            "862:\tlearn: 0.0516192\ttotal: 2.4s\tremaining: 381ms\n",
            "863:\tlearn: 0.0516042\ttotal: 2.4s\tremaining: 378ms\n",
            "864:\tlearn: 0.0515813\ttotal: 2.41s\tremaining: 376ms\n",
            "865:\tlearn: 0.0515714\ttotal: 2.41s\tremaining: 373ms\n",
            "866:\tlearn: 0.0515373\ttotal: 2.41s\tremaining: 370ms\n",
            "867:\tlearn: 0.0514502\ttotal: 2.41s\tremaining: 367ms\n",
            "868:\tlearn: 0.0513956\ttotal: 2.42s\tremaining: 364ms\n",
            "869:\tlearn: 0.0512991\ttotal: 2.42s\tremaining: 361ms\n",
            "870:\tlearn: 0.0512660\ttotal: 2.42s\tremaining: 359ms\n",
            "871:\tlearn: 0.0511949\ttotal: 2.42s\tremaining: 356ms\n",
            "872:\tlearn: 0.0511872\ttotal: 2.43s\tremaining: 353ms\n",
            "873:\tlearn: 0.0511735\ttotal: 2.43s\tremaining: 350ms\n",
            "874:\tlearn: 0.0511695\ttotal: 2.43s\tremaining: 347ms\n",
            "875:\tlearn: 0.0511519\ttotal: 2.43s\tremaining: 344ms\n",
            "876:\tlearn: 0.0511216\ttotal: 2.44s\tremaining: 342ms\n",
            "877:\tlearn: 0.0510764\ttotal: 2.44s\tremaining: 339ms\n",
            "878:\tlearn: 0.0510693\ttotal: 2.44s\tremaining: 336ms\n",
            "879:\tlearn: 0.0510558\ttotal: 2.44s\tremaining: 333ms\n",
            "880:\tlearn: 0.0509684\ttotal: 2.44s\tremaining: 330ms\n",
            "881:\tlearn: 0.0509400\ttotal: 2.45s\tremaining: 328ms\n",
            "882:\tlearn: 0.0509240\ttotal: 2.45s\tremaining: 325ms\n",
            "883:\tlearn: 0.0509081\ttotal: 2.45s\tremaining: 322ms\n",
            "884:\tlearn: 0.0508986\ttotal: 2.46s\tremaining: 319ms\n",
            "885:\tlearn: 0.0508897\ttotal: 2.46s\tremaining: 316ms\n",
            "886:\tlearn: 0.0508679\ttotal: 2.46s\tremaining: 313ms\n",
            "887:\tlearn: 0.0508641\ttotal: 2.46s\tremaining: 311ms\n",
            "888:\tlearn: 0.0508276\ttotal: 2.47s\tremaining: 308ms\n",
            "889:\tlearn: 0.0508018\ttotal: 2.47s\tremaining: 305ms\n",
            "890:\tlearn: 0.0507695\ttotal: 2.47s\tremaining: 302ms\n",
            "891:\tlearn: 0.0507562\ttotal: 2.48s\tremaining: 300ms\n",
            "892:\tlearn: 0.0507476\ttotal: 2.48s\tremaining: 297ms\n",
            "893:\tlearn: 0.0507054\ttotal: 2.48s\tremaining: 294ms\n",
            "894:\tlearn: 0.0506937\ttotal: 2.48s\tremaining: 292ms\n",
            "895:\tlearn: 0.0506811\ttotal: 2.49s\tremaining: 289ms\n",
            "896:\tlearn: 0.0506724\ttotal: 2.49s\tremaining: 286ms\n",
            "897:\tlearn: 0.0506697\ttotal: 2.49s\tremaining: 283ms\n",
            "898:\tlearn: 0.0506373\ttotal: 2.49s\tremaining: 280ms\n",
            "899:\tlearn: 0.0506340\ttotal: 2.5s\tremaining: 277ms\n",
            "900:\tlearn: 0.0505986\ttotal: 2.5s\tremaining: 274ms\n",
            "901:\tlearn: 0.0505922\ttotal: 2.5s\tremaining: 272ms\n",
            "902:\tlearn: 0.0505770\ttotal: 2.5s\tremaining: 269ms\n",
            "903:\tlearn: 0.0505235\ttotal: 2.5s\tremaining: 266ms\n",
            "904:\tlearn: 0.0505042\ttotal: 2.51s\tremaining: 263ms\n",
            "905:\tlearn: 0.0504954\ttotal: 2.51s\tremaining: 260ms\n",
            "906:\tlearn: 0.0504655\ttotal: 2.51s\tremaining: 257ms\n",
            "907:\tlearn: 0.0504363\ttotal: 2.51s\tremaining: 255ms\n",
            "908:\tlearn: 0.0504101\ttotal: 2.52s\tremaining: 252ms\n",
            "909:\tlearn: 0.0503508\ttotal: 2.52s\tremaining: 249ms\n",
            "910:\tlearn: 0.0503161\ttotal: 2.52s\tremaining: 246ms\n",
            "911:\tlearn: 0.0503009\ttotal: 2.52s\tremaining: 243ms\n",
            "912:\tlearn: 0.0502822\ttotal: 2.52s\tremaining: 241ms\n",
            "913:\tlearn: 0.0502718\ttotal: 2.53s\tremaining: 238ms\n",
            "914:\tlearn: 0.0502655\ttotal: 2.53s\tremaining: 235ms\n",
            "915:\tlearn: 0.0502379\ttotal: 2.53s\tremaining: 232ms\n",
            "916:\tlearn: 0.0502282\ttotal: 2.53s\tremaining: 229ms\n",
            "917:\tlearn: 0.0502153\ttotal: 2.54s\tremaining: 227ms\n",
            "918:\tlearn: 0.0501159\ttotal: 2.54s\tremaining: 224ms\n",
            "919:\tlearn: 0.0500477\ttotal: 2.54s\tremaining: 221ms\n",
            "920:\tlearn: 0.0500450\ttotal: 2.54s\tremaining: 218ms\n",
            "921:\tlearn: 0.0500416\ttotal: 2.55s\tremaining: 215ms\n",
            "922:\tlearn: 0.0500357\ttotal: 2.55s\tremaining: 213ms\n",
            "923:\tlearn: 0.0499960\ttotal: 2.55s\tremaining: 210ms\n",
            "924:\tlearn: 0.0499795\ttotal: 2.55s\tremaining: 207ms\n",
            "925:\tlearn: 0.0499653\ttotal: 2.56s\tremaining: 204ms\n",
            "926:\tlearn: 0.0499529\ttotal: 2.56s\tremaining: 201ms\n",
            "927:\tlearn: 0.0499444\ttotal: 2.56s\tremaining: 199ms\n",
            "928:\tlearn: 0.0499352\ttotal: 2.56s\tremaining: 196ms\n",
            "929:\tlearn: 0.0498984\ttotal: 2.57s\tremaining: 193ms\n",
            "930:\tlearn: 0.0498871\ttotal: 2.57s\tremaining: 190ms\n",
            "931:\tlearn: 0.0498663\ttotal: 2.57s\tremaining: 188ms\n",
            "932:\tlearn: 0.0498552\ttotal: 2.57s\tremaining: 185ms\n",
            "933:\tlearn: 0.0498171\ttotal: 2.58s\tremaining: 182ms\n",
            "934:\tlearn: 0.0497820\ttotal: 2.58s\tremaining: 179ms\n",
            "935:\tlearn: 0.0497673\ttotal: 2.58s\tremaining: 176ms\n",
            "936:\tlearn: 0.0497489\ttotal: 2.58s\tremaining: 174ms\n",
            "937:\tlearn: 0.0497169\ttotal: 2.58s\tremaining: 171ms\n",
            "938:\tlearn: 0.0496753\ttotal: 2.59s\tremaining: 168ms\n",
            "939:\tlearn: 0.0496302\ttotal: 2.59s\tremaining: 165ms\n",
            "940:\tlearn: 0.0496018\ttotal: 2.59s\tremaining: 163ms\n",
            "941:\tlearn: 0.0495937\ttotal: 2.6s\tremaining: 160ms\n",
            "942:\tlearn: 0.0495791\ttotal: 2.6s\tremaining: 157ms\n",
            "943:\tlearn: 0.0495547\ttotal: 2.6s\tremaining: 154ms\n",
            "944:\tlearn: 0.0495318\ttotal: 2.6s\tremaining: 152ms\n",
            "945:\tlearn: 0.0495242\ttotal: 2.61s\tremaining: 149ms\n",
            "946:\tlearn: 0.0495084\ttotal: 2.61s\tremaining: 146ms\n",
            "947:\tlearn: 0.0495011\ttotal: 2.61s\tremaining: 143ms\n",
            "948:\tlearn: 0.0494940\ttotal: 2.62s\tremaining: 141ms\n",
            "949:\tlearn: 0.0494707\ttotal: 2.62s\tremaining: 138ms\n",
            "950:\tlearn: 0.0494532\ttotal: 2.62s\tremaining: 135ms\n",
            "951:\tlearn: 0.0494401\ttotal: 2.62s\tremaining: 132ms\n",
            "952:\tlearn: 0.0494250\ttotal: 2.63s\tremaining: 130ms\n",
            "953:\tlearn: 0.0493360\ttotal: 2.63s\tremaining: 127ms\n",
            "954:\tlearn: 0.0493290\ttotal: 2.63s\tremaining: 124ms\n",
            "955:\tlearn: 0.0493256\ttotal: 2.63s\tremaining: 121ms\n",
            "956:\tlearn: 0.0493138\ttotal: 2.64s\tremaining: 118ms\n",
            "957:\tlearn: 0.0492710\ttotal: 2.64s\tremaining: 116ms\n",
            "958:\tlearn: 0.0492648\ttotal: 2.64s\tremaining: 113ms\n",
            "959:\tlearn: 0.0492591\ttotal: 2.64s\tremaining: 110ms\n",
            "960:\tlearn: 0.0492468\ttotal: 2.65s\tremaining: 107ms\n",
            "961:\tlearn: 0.0492218\ttotal: 2.65s\tremaining: 105ms\n",
            "962:\tlearn: 0.0492017\ttotal: 2.65s\tremaining: 102ms\n",
            "963:\tlearn: 0.0491540\ttotal: 2.65s\tremaining: 99.1ms\n",
            "964:\tlearn: 0.0491490\ttotal: 2.66s\tremaining: 96.3ms\n",
            "965:\tlearn: 0.0491305\ttotal: 2.66s\tremaining: 93.6ms\n",
            "966:\tlearn: 0.0490496\ttotal: 2.66s\tremaining: 90.8ms\n",
            "967:\tlearn: 0.0490219\ttotal: 2.66s\tremaining: 88.1ms\n",
            "968:\tlearn: 0.0490009\ttotal: 2.67s\tremaining: 85.3ms\n",
            "969:\tlearn: 0.0489962\ttotal: 2.67s\tremaining: 82.6ms\n",
            "970:\tlearn: 0.0489904\ttotal: 2.67s\tremaining: 79.9ms\n",
            "971:\tlearn: 0.0489863\ttotal: 2.68s\tremaining: 77.1ms\n",
            "972:\tlearn: 0.0489852\ttotal: 2.68s\tremaining: 74.4ms\n",
            "973:\tlearn: 0.0489732\ttotal: 2.68s\tremaining: 71.6ms\n",
            "974:\tlearn: 0.0489538\ttotal: 2.68s\tremaining: 68.8ms\n",
            "975:\tlearn: 0.0489369\ttotal: 2.69s\tremaining: 66.1ms\n",
            "976:\tlearn: 0.0489264\ttotal: 2.69s\tremaining: 63.3ms\n",
            "977:\tlearn: 0.0489213\ttotal: 2.69s\tremaining: 60.6ms\n",
            "978:\tlearn: 0.0489171\ttotal: 2.69s\tremaining: 57.8ms\n",
            "979:\tlearn: 0.0489066\ttotal: 2.7s\tremaining: 55ms\n",
            "980:\tlearn: 0.0488389\ttotal: 2.7s\tremaining: 52.3ms\n",
            "981:\tlearn: 0.0487691\ttotal: 2.7s\tremaining: 49.5ms\n",
            "982:\tlearn: 0.0487379\ttotal: 2.7s\tremaining: 46.8ms\n",
            "983:\tlearn: 0.0486638\ttotal: 2.71s\tremaining: 44ms\n",
            "984:\tlearn: 0.0486441\ttotal: 2.71s\tremaining: 41.3ms\n",
            "985:\tlearn: 0.0486178\ttotal: 2.71s\tremaining: 38.5ms\n",
            "986:\tlearn: 0.0486144\ttotal: 2.71s\tremaining: 35.8ms\n",
            "987:\tlearn: 0.0486024\ttotal: 2.72s\tremaining: 33ms\n",
            "988:\tlearn: 0.0485833\ttotal: 2.72s\tremaining: 30.2ms\n",
            "989:\tlearn: 0.0485725\ttotal: 2.72s\tremaining: 27.5ms\n",
            "990:\tlearn: 0.0485628\ttotal: 2.72s\tremaining: 24.7ms\n",
            "991:\tlearn: 0.0485415\ttotal: 2.73s\tremaining: 22ms\n",
            "992:\tlearn: 0.0485322\ttotal: 2.73s\tremaining: 19.2ms\n",
            "993:\tlearn: 0.0485236\ttotal: 2.73s\tremaining: 16.5ms\n",
            "994:\tlearn: 0.0485205\ttotal: 2.73s\tremaining: 13.7ms\n",
            "995:\tlearn: 0.0484982\ttotal: 2.74s\tremaining: 11ms\n",
            "996:\tlearn: 0.0484710\ttotal: 2.74s\tremaining: 8.24ms\n",
            "997:\tlearn: 0.0484155\ttotal: 2.74s\tremaining: 5.49ms\n",
            "998:\tlearn: 0.0483973\ttotal: 2.74s\tremaining: 2.75ms\n",
            "999:\tlearn: 0.0483898\ttotal: 2.75s\tremaining: 0us\n"
          ]
        },
        {
          "output_type": "execute_result",
          "data": {
            "text/plain": [
              "<catboost.core.CatBoostRegressor at 0x7f0129379050>"
            ]
          },
          "metadata": {},
          "execution_count": 54
        }
      ]
    },
    {
      "cell_type": "code",
      "source": [
        "y_pred = regressor.predict(x_test)\n",
        "y_pred = y_pred.reshape(len(y_pred),1)\n",
        "y_pred1 = sc_y.inverse_transform(y_pred)\n",
        "y_test1 = sc_y.inverse_transform(y_test)"
      ],
      "metadata": {
        "id": "6kKu0xbrs-tT"
      },
      "execution_count": null,
      "outputs": []
    },
    {
      "cell_type": "code",
      "source": [
        "plt.scatter(y_test1,y_pred1)"
      ],
      "metadata": {
        "colab": {
          "base_uri": "https://localhost:8080/",
          "height": 285
        },
        "id": "pL5sTGjttBts",
        "outputId": "85fa5535-1396-4994-beb3-031d5abfd055"
      },
      "execution_count": null,
      "outputs": [
        {
          "output_type": "execute_result",
          "data": {
            "text/plain": [
              "<matplotlib.collections.PathCollection at 0x7f0139053210>"
            ]
          },
          "metadata": {},
          "execution_count": 56
        },
        {
          "output_type": "display_data",
          "data": {
            "text/plain": [
              "<Figure size 432x288 with 1 Axes>"
            ],
            "image/png": "[encoded data removed]"
          },
          "metadata": {}
        }
      ]
    },
    {
      "cell_type": "code",
      "source": [
        "from sklearn.metrics import r2_score,mean_squared_error\n",
        "from math import sqrt\n",
        "print(r2_score(y_test1, y_pred1))\n",
        "mse=mean_squared_error(y_test1,y_pred1)\n",
        "rsme=sqrt(mse)\n",
        "print(rsme)"
      ],
      "metadata": {
        "colab": {
          "base_uri": "https://localhost:8080/"
        },
        "id": "In2IP8N8tDO3",
        "outputId": "7783d759-2955-4d09-e906-c25e71c10691"
      },
      "execution_count": null,
      "outputs": [
        {
          "output_type": "stream",
          "name": "stdout",
          "text": [
            "0.9962537152813846\n",
            "0.08198748965218428\n"
          ]
        }
      ]
    },
    {
      "cell_type": "code",
      "source": [
        "CBR_ytest = y_test1\n",
        "CBR_ypred = y_pred1\n",
        "CBR_xtest = x_test1"
      ],
      "metadata": {
        "id": "TVxFfI3ftGKO"
      },
      "execution_count": null,
      "outputs": []
    },
    {
      "cell_type": "code",
      "source": [
        ""
      ],
      "metadata": {
        "id": "02zjQMXntIo2"
      },
      "execution_count": null,
      "outputs": []
    },
    {
      "cell_type": "markdown",
      "source": [
        "# Result Dataframe"
      ],
      "metadata": {
        "id": "o7ocdI-Etrik"
      }
    },
    {
      "cell_type": "code",
      "source": [
        "df = pd.DataFrame()"
      ],
      "metadata": {
        "id": "NAwp-f70ttgl"
      },
      "execution_count": null,
      "outputs": []
    },
    {
      "cell_type": "code",
      "source": [
        "x_test1"
      ],
      "metadata": {
        "colab": {
          "base_uri": "https://localhost:8080/"
        },
        "id": "Y4yfQfoa2BRD",
        "outputId": "f35140a3-2c20-4c08-ec9c-784922a64ba3"
      },
      "execution_count": null,
      "outputs": [
        {
          "output_type": "execute_result",
          "data": {
            "text/plain": [
              "array([[100.      ,   0.      ,   0.      ,   5.      ,  34.884295],\n",
              "       [ 75.5     ,  24.      ,   0.5     ,  10.      ,  37.08853 ],\n",
              "       [ 76.      ,  24.      ,   0.      ,   7.5     ,  45.761293],\n",
              "       ...,\n",
              "       [ 82.      ,  18.      ,   0.      ,   5.      ,  54.233841],\n",
              "       [ 94.      ,   6.      ,   0.      ,   7.5     ,  42.391707],\n",
              "       [ 75.5     ,  24.      ,   0.5     ,  10.      ,  12.045519]])"
            ]
          },
          "metadata": {},
          "execution_count": 60
        }
      ]
    },
    {
      "cell_type": "code",
      "source": [
        "heating_rate = x_test1[:,-2]\n",
        "temperature = x_test1[:,-1]\n",
        "PCM_conc = x_test1[:,0]\n",
        "char = x_test1[:,1]\n",
        "CNT = x_test1[:,2]\n"
      ],
      "metadata": {
        "id": "krWXv-PXtyb6"
      },
      "execution_count": null,
      "outputs": []
    },
    {
      "cell_type": "code",
      "source": [
        "df['Concentration of PCM (Wt.%)'] = PCM_conc\n",
        "df['Concentraton of biochar(Wt.%)'] = char\n",
        "df['Concentration of MWCNT(Wt.%)'] = CNT\n",
        "df['heating_rate'] = heating_rate\n",
        "df['temperature'] = temperature\n",
        "\n",
        "df[\"RFR_ytest\"] = RFR_ytest\n",
        "df[\"RFR_ypred\"] = RFR_ypred\n",
        "df[\"DTR_ytest\"] = DTR_ytest\n",
        "df[\"DTR_ypred\"] = DTR_ypred\n",
        "df[\"kNNR_ytest\"] = kNNR_ytest\n",
        "df[\"kNNR_ypred\"] = kNNR_ypred\n",
        "df[\"SVR_ytest\"] = SVR_ytest\n",
        "df[\"SVR_ypred\"] = SVR_ypred\n",
        "df[\"LR_ytest\"] = LR_ytest\n",
        "df[\"LR_ypred\"] = LR_ypred\n",
        "df[\"XGR_ytest\"] = XGR_ytest\n",
        "df[\"XGR_ypred\"] = XGR_ypred\n",
        "df[\"CBR_ytest\"] = CBR_ytest\n",
        "df[\"CBR_ypred\"] = CBR_ypred\n"
      ],
      "metadata": {
        "id": "NlMlQ0I3ufKv"
      },
      "execution_count": null,
      "outputs": []
    },
    {
      "cell_type": "code",
      "source": [
        "df_sorted = df.sort_values(['heating_rate','temperature'], ascending=True)"
      ],
      "metadata": {
        "id": "SO9sh5nRuxDV"
      },
      "execution_count": null,
      "outputs": []
    },
    {
      "cell_type": "code",
      "source": [
        "df_sorted"
      ],
      "metadata": {
        "colab": {
          "base_uri": "https://localhost:8080/",
          "height": 522
        },
        "id": "FcYMuQMxu62G",
        "outputId": "7b343afb-212e-43be-cef7-790db73d351f"
      },
      "execution_count": null,
      "outputs": [
        {
          "output_type": "execute_result",
          "data": {
            "text/plain": [
              "      Concentration of PCM (Wt.%)  Concentraton of biochar(Wt.%)  \\\n",
              "1682                        100.0                            0.0   \n",
              "1067                        100.0                            0.0   \n",
              "2219                        100.0                            0.0   \n",
              "3820                        100.0                            0.0   \n",
              "1942                        100.0                            0.0   \n",
              "...                           ...                            ...   \n",
              "2508                        100.0                            0.0   \n",
              "2375                         75.0                           24.0   \n",
              "1957                        100.0                            0.0   \n",
              "67                           88.0                           12.0   \n",
              "456                         100.0                            0.0   \n",
              "\n",
              "      Concentration of MWCNT(Wt.%)  heating_rate  temperature  RFR_ytest  \\\n",
              "1682                           0.0           5.0     9.025018   3.289192   \n",
              "1067                           0.0           5.0     9.025136   3.289192   \n",
              "2219                           0.0           5.0     9.026917   3.289192   \n",
              "3820                           0.0           5.0     9.034631   3.289184   \n",
              "1942                           0.0           5.0     9.045030   3.289067   \n",
              "...                            ...           ...          ...        ...   \n",
              "2508                           0.0          10.0    57.110733   3.470911   \n",
              "2375                           1.0          10.0    57.163366   3.600376   \n",
              "1957                           0.0          10.0    57.180713   3.471105   \n",
              "67                             0.0          10.0    57.181545   3.472088   \n",
              "456                            0.0          10.0    57.210703   3.471201   \n",
              "\n",
              "      RFR_ypred  DTR_ytest  DTR_ypred  kNNR_ytest  kNNR_ypred  SVR_ytest  \\\n",
              "1682   3.289200   3.289192   3.289200    3.289192    3.289200   3.289192   \n",
              "1067   3.289194   3.289192   3.289192    3.289192    3.289198   3.289192   \n",
              "2219   3.289193   3.289192   3.289192    3.289192    3.289196   3.289192   \n",
              "3820   3.289156   3.289184   3.289136    3.289184    3.289187   3.289184   \n",
              "1942   3.289174   3.289067   3.289184    3.289067    3.289185   3.289067   \n",
              "...         ...        ...        ...         ...         ...        ...   \n",
              "2508   3.470842   3.470911   3.470812    3.470911    3.470413   3.470911   \n",
              "2375   3.599474   3.600376   3.599792    3.600376    3.596839   3.600376   \n",
              "1957   3.470919   3.471105   3.471010    3.471105    3.470413   3.471105   \n",
              "67     3.470793   3.472088   3.471200    3.472088    3.468209   3.472088   \n",
              "456    3.470919   3.471201   3.471010    3.471201    3.470413   3.471201   \n",
              "\n",
              "      SVR_ypred  LR_ytest  LR_ypred  XGR_ytest  XGR_ypred  CBR_ytest  \\\n",
              "1682   2.926319  3.289192  3.358344   3.289192   3.300775   3.289192   \n",
              "1067   2.926309  3.289192  3.358346   3.289192   3.300775   3.289192   \n",
              "2219   2.926156  3.289192  3.358372   3.289192   3.300775   3.289192   \n",
              "3820   2.925494  3.289184  3.358485   3.289184   3.300775   3.289184   \n",
              "1942   2.924602  3.289067  3.358638   3.289067   3.300775   3.289067   \n",
              "...         ...       ...       ...        ...        ...        ...   \n",
              "2508   2.787493  3.470911  4.464935   3.470911   3.620474   3.470911   \n",
              "2375   3.247848  3.600376  4.227600   3.600376   3.670024   3.600376   \n",
              "1957   2.777363  3.471105  4.465961   3.471105   3.620474   3.471105   \n",
              "67     2.728135  3.472088  4.387834   3.472088   3.518759   3.472088   \n",
              "456    2.773035  3.471201  4.466400   3.471201   3.620474   3.471201   \n",
              "\n",
              "      CBR_ypred  \n",
              "1682   3.289490  \n",
              "1067   3.289490  \n",
              "2219   3.289490  \n",
              "3820   3.289490  \n",
              "1942   3.287282  \n",
              "...         ...  \n",
              "2508   3.466243  \n",
              "2375   3.593153  \n",
              "1957   3.466243  \n",
              "67     3.487069  \n",
              "456    3.466243  \n",
              "\n",
              "[4291 rows x 19 columns]"
            ],
            "text/html": [
              "\n",
              "  <div id=\"df-5033f0e7-03b2-4330-b155-3e51036f429c\">\n",
              "    <div class=\"colab-df-container\">\n",
              "      <div>\n",
              "<style scoped>\n",
              "    .dataframe tbody tr th:only-of-type {\n",
              "        vertical-align: middle;\n",
              "    }\n",
              "\n",
              "    .dataframe tbody tr th {\n",
              "        vertical-align: top;\n",
              "    }\n",
              "\n",
              "    .dataframe thead th {\n",
              "        text-align: right;\n",
              "    }\n",
              "</style>\n",
              "<table border=\"1\" class=\"dataframe\">\n",
              "  <thead>\n",
              "    <tr style=\"text-align: right;\">\n",
              "      <th></th>\n",
              "      <th>Concentration of PCM (Wt.%)</th>\n",
              "      <th>Concentraton of biochar(Wt.%)</th>\n",
              "      <th>Concentration of MWCNT(Wt.%)</th>\n",
              "      <th>heating_rate</th>\n",
              "      <th>temperature</th>\n",
              "      <th>RFR_ytest</th>\n",
              "      <th>RFR_ypred</th>\n",
              "      <th>DTR_ytest</th>\n",
              "      <th>DTR_ypred</th>\n",
              "      <th>kNNR_ytest</th>\n",
              "      <th>kNNR_ypred</th>\n",
              "      <th>SVR_ytest</th>\n",
              "      <th>SVR_ypred</th>\n",
              "      <th>LR_ytest</th>\n",
              "      <th>LR_ypred</th>\n",
              "      <th>XGR_ytest</th>\n",
              "      <th>XGR_ypred</th>\n",
              "      <th>CBR_ytest</th>\n",
              "      <th>CBR_ypred</th>\n",
              "    </tr>\n",
              "  </thead>\n",
              "  <tbody>\n",
              "    <tr>\n",
              "      <th>1682</th>\n",
              "      <td>100.0</td>\n",
              "      <td>0.0</td>\n",
              "      <td>0.0</td>\n",
              "      <td>5.0</td>\n",
              "      <td>9.025018</td>\n",
              "      <td>3.289192</td>\n",
              "      <td>3.289200</td>\n",
              "      <td>3.289192</td>\n",
              "      <td>3.289200</td>\n",
              "      <td>3.289192</td>\n",
              "      <td>3.289200</td>\n",
              "      <td>3.289192</td>\n",
              "      <td>2.926319</td>\n",
              "      <td>3.289192</td>\n",
              "      <td>3.358344</td>\n",
              "      <td>3.289192</td>\n",
              "      <td>3.300775</td>\n",
              "      <td>3.289192</td>\n",
              "      <td>3.289490</td>\n",
              "    </tr>\n",
              "    <tr>\n",
              "      <th>1067</th>\n",
              "      <td>100.0</td>\n",
              "      <td>0.0</td>\n",
              "      <td>0.0</td>\n",
              "      <td>5.0</td>\n",
              "      <td>9.025136</td>\n",
              "      <td>3.289192</td>\n",
              "      <td>3.289194</td>\n",
              "      <td>3.289192</td>\n",
              "      <td>3.289192</td>\n",
              "      <td>3.289192</td>\n",
              "      <td>3.289198</td>\n",
              "      <td>3.289192</td>\n",
              "      <td>2.926309</td>\n",
              "      <td>3.289192</td>\n",
              "      <td>3.358346</td>\n",
              "      <td>3.289192</td>\n",
              "      <td>3.300775</td>\n",
              "      <td>3.289192</td>\n",
              "      <td>3.289490</td>\n",
              "    </tr>\n",
              "    <tr>\n",
              "      <th>2219</th>\n",
              "      <td>100.0</td>\n",
              "      <td>0.0</td>\n",
              "      <td>0.0</td>\n",
              "      <td>5.0</td>\n",
              "      <td>9.026917</td>\n",
              "      <td>3.289192</td>\n",
              "      <td>3.289193</td>\n",
              "      <td>3.289192</td>\n",
              "      <td>3.289192</td>\n",
              "      <td>3.289192</td>\n",
              "      <td>3.289196</td>\n",
              "      <td>3.289192</td>\n",
              "      <td>2.926156</td>\n",
              "      <td>3.289192</td>\n",
              "      <td>3.358372</td>\n",
              "      <td>3.289192</td>\n",
              "      <td>3.300775</td>\n",
              "      <td>3.289192</td>\n",
              "      <td>3.289490</td>\n",
              "    </tr>\n",
              "    <tr>\n",
              "      <th>3820</th>\n",
              "      <td>100.0</td>\n",
              "      <td>0.0</td>\n",
              "      <td>0.0</td>\n",
              "      <td>5.0</td>\n",
              "      <td>9.034631</td>\n",
              "      <td>3.289184</td>\n",
              "      <td>3.289156</td>\n",
              "      <td>3.289184</td>\n",
              "      <td>3.289136</td>\n",
              "      <td>3.289184</td>\n",
              "      <td>3.289187</td>\n",
              "      <td>3.289184</td>\n",
              "      <td>2.925494</td>\n",
              "      <td>3.289184</td>\n",
              "      <td>3.358485</td>\n",
              "      <td>3.289184</td>\n",
              "      <td>3.300775</td>\n",
              "      <td>3.289184</td>\n",
              "      <td>3.289490</td>\n",
              "    </tr>\n",
              "    <tr>\n",
              "      <th>1942</th>\n",
              "      <td>100.0</td>\n",
              "      <td>0.0</td>\n",
              "      <td>0.0</td>\n",
              "      <td>5.0</td>\n",
              "      <td>9.045030</td>\n",
              "      <td>3.289067</td>\n",
              "      <td>3.289174</td>\n",
              "      <td>3.289067</td>\n",
              "      <td>3.289184</td>\n",
              "      <td>3.289067</td>\n",
              "      <td>3.289185</td>\n",
              "      <td>3.289067</td>\n",
              "      <td>2.924602</td>\n",
              "      <td>3.289067</td>\n",
              "      <td>3.358638</td>\n",
              "      <td>3.289067</td>\n",
              "      <td>3.300775</td>\n",
              "      <td>3.289067</td>\n",
              "      <td>3.287282</td>\n",
              "    </tr>\n",
              "    <tr>\n",
              "      <th>...</th>\n",
              "      <td>...</td>\n",
              "      <td>...</td>\n",
              "      <td>...</td>\n",
              "      <td>...</td>\n",
              "      <td>...</td>\n",
              "      <td>...</td>\n",
              "      <td>...</td>\n",
              "      <td>...</td>\n",
              "      <td>...</td>\n",
              "      <td>...</td>\n",
              "      <td>...</td>\n",
              "      <td>...</td>\n",
              "      <td>...</td>\n",
              "      <td>...</td>\n",
              "      <td>...</td>\n",
              "      <td>...</td>\n",
              "      <td>...</td>\n",
              "      <td>...</td>\n",
              "      <td>...</td>\n",
              "    </tr>\n",
              "    <tr>\n",
              "      <th>2508</th>\n",
              "      <td>100.0</td>\n",
              "      <td>0.0</td>\n",
              "      <td>0.0</td>\n",
              "      <td>10.0</td>\n",
              "      <td>57.110733</td>\n",
              "      <td>3.470911</td>\n",
              "      <td>3.470842</td>\n",
              "      <td>3.470911</td>\n",
              "      <td>3.470812</td>\n",
              "      <td>3.470911</td>\n",
              "      <td>3.470413</td>\n",
              "      <td>3.470911</td>\n",
              "      <td>2.787493</td>\n",
              "      <td>3.470911</td>\n",
              "      <td>4.464935</td>\n",
              "      <td>3.470911</td>\n",
              "      <td>3.620474</td>\n",
              "      <td>3.470911</td>\n",
              "      <td>3.466243</td>\n",
              "    </tr>\n",
              "    <tr>\n",
              "      <th>2375</th>\n",
              "      <td>75.0</td>\n",
              "      <td>24.0</td>\n",
              "      <td>1.0</td>\n",
              "      <td>10.0</td>\n",
              "      <td>57.163366</td>\n",
              "      <td>3.600376</td>\n",
              "      <td>3.599474</td>\n",
              "      <td>3.600376</td>\n",
              "      <td>3.599792</td>\n",
              "      <td>3.600376</td>\n",
              "      <td>3.596839</td>\n",
              "      <td>3.600376</td>\n",
              "      <td>3.247848</td>\n",
              "      <td>3.600376</td>\n",
              "      <td>4.227600</td>\n",
              "      <td>3.600376</td>\n",
              "      <td>3.670024</td>\n",
              "      <td>3.600376</td>\n",
              "      <td>3.593153</td>\n",
              "    </tr>\n",
              "    <tr>\n",
              "      <th>1957</th>\n",
              "      <td>100.0</td>\n",
              "      <td>0.0</td>\n",
              "      <td>0.0</td>\n",
              "      <td>10.0</td>\n",
              "      <td>57.180713</td>\n",
              "      <td>3.471105</td>\n",
              "      <td>3.470919</td>\n",
              "      <td>3.471105</td>\n",
              "      <td>3.471010</td>\n",
              "      <td>3.471105</td>\n",
              "      <td>3.470413</td>\n",
              "      <td>3.471105</td>\n",
              "      <td>2.777363</td>\n",
              "      <td>3.471105</td>\n",
              "      <td>4.465961</td>\n",
              "      <td>3.471105</td>\n",
              "      <td>3.620474</td>\n",
              "      <td>3.471105</td>\n",
              "      <td>3.466243</td>\n",
              "    </tr>\n",
              "    <tr>\n",
              "      <th>67</th>\n",
              "      <td>88.0</td>\n",
              "      <td>12.0</td>\n",
              "      <td>0.0</td>\n",
              "      <td>10.0</td>\n",
              "      <td>57.181545</td>\n",
              "      <td>3.472088</td>\n",
              "      <td>3.470793</td>\n",
              "      <td>3.472088</td>\n",
              "      <td>3.471200</td>\n",
              "      <td>3.472088</td>\n",
              "      <td>3.468209</td>\n",
              "      <td>3.472088</td>\n",
              "      <td>2.728135</td>\n",
              "      <td>3.472088</td>\n",
              "      <td>4.387834</td>\n",
              "      <td>3.472088</td>\n",
              "      <td>3.518759</td>\n",
              "      <td>3.472088</td>\n",
              "      <td>3.487069</td>\n",
              "    </tr>\n",
              "    <tr>\n",
              "      <th>456</th>\n",
              "      <td>100.0</td>\n",
              "      <td>0.0</td>\n",
              "      <td>0.0</td>\n",
              "      <td>10.0</td>\n",
              "      <td>57.210703</td>\n",
              "      <td>3.471201</td>\n",
              "      <td>3.470919</td>\n",
              "      <td>3.471201</td>\n",
              "      <td>3.471010</td>\n",
              "      <td>3.471201</td>\n",
              "      <td>3.470413</td>\n",
              "      <td>3.471201</td>\n",
              "      <td>2.773035</td>\n",
              "      <td>3.471201</td>\n",
              "      <td>4.466400</td>\n",
              "      <td>3.471201</td>\n",
              "      <td>3.620474</td>\n",
              "      <td>3.471201</td>\n",
              "      <td>3.466243</td>\n",
              "    </tr>\n",
              "  </tbody>\n",
              "</table>\n",
              "<p>4291 rows × 19 columns</p>\n",
              "</div>\n",
              "      <button class=\"colab-df-convert\" onclick=\"convertToInteractive('df-5033f0e7-03b2-4330-b155-3e51036f429c')\"\n",
              "              title=\"Convert this dataframe to an interactive table.\"\n",
              "              style=\"display:none;\">\n",
              "        \n",
              "  <svg xmlns=\"http://www.w3.org/2000/svg\" height=\"24px\"viewBox=\"0 0 24 24\"\n",
              "       width=\"24px\">\n",
              "    <path d=\"M0 0h24v24H0V0z\" fill=\"none\"/>\n",
              "    <path d=\"M18.56 5.44l.94 2.06.94-2.06 2.06-.94-2.06-.94-.94-2.06-.94 2.06-2.06.94zm-11 1L8.5 8.5l.94-2.06 2.06-.94-2.06-.94L8.5 2.5l-.94 2.06-2.06.94zm10 10l.94 2.06.94-2.06 2.06-.94-2.06-.94-.94-2.06-.94 2.06-2.06.94z\"/><path d=\"M17.41 7.96l-1.37-1.37c-.4-.4-.92-.59-1.43-.59-.52 0-1.04.2-1.43.59L10.3 9.45l-7.72 7.72c-.78.78-.78 2.05 0 2.83L4 21.41c.39.39.9.59 1.41.59.51 0 1.02-.2 1.41-.59l7.78-7.78 2.81-2.81c.8-.78.8-2.07 0-2.86zM5.41 20L4 18.59l7.72-7.72 1.47 1.35L5.41 20z\"/>\n",
              "  </svg>\n",
              "      </button>\n",
              "      \n",
              "  <style>\n",
              "    .colab-df-container {\n",
              "      display:flex;\n",
              "      flex-wrap:wrap;\n",
              "      gap: 12px;\n",
              "    }\n",
              "\n",
              "    .colab-df-convert {\n",
              "      background-color: #E8F0FE;\n",
              "      border: none;\n",
              "      border-radius: 50%;\n",
              "      cursor: pointer;\n",
              "      display: none;\n",
              "      fill: #1967D2;\n",
              "      height: 32px;\n",
              "      padding: 0 0 0 0;\n",
              "      width: 32px;\n",
              "    }\n",
              "\n",
              "    .colab-df-convert:hover {\n",
              "      background-color: #E2EBFA;\n",
              "      box-shadow: 0px 1px 2px rgba(60, 64, 67, 0.3), 0px 1px 3px 1px rgba(60, 64, 67, 0.15);\n",
              "      fill: #174EA6;\n",
              "    }\n",
              "\n",
              "    [theme=dark] .colab-df-convert {\n",
              "      background-color: #3B4455;\n",
              "      fill: #D2E3FC;\n",
              "    }\n",
              "\n",
              "    [theme=dark] .colab-df-convert:hover {\n",
              "      background-color: #434B5C;\n",
              "      box-shadow: 0px 1px 3px 1px rgba(0, 0, 0, 0.15);\n",
              "      filter: drop-shadow(0px 1px 2px rgba(0, 0, 0, 0.3));\n",
              "      fill: #FFFFFF;\n",
              "    }\n",
              "  </style>\n",
              "\n",
              "      <script>\n",
              "        const buttonEl =\n",
              "          document.querySelector('#df-5033f0e7-03b2-4330-b155-3e51036f429c button.colab-df-convert');\n",
              "        buttonEl.style.display =\n",
              "          google.colab.kernel.accessAllowed ? 'block' : 'none';\n",
              "\n",
              "        async function convertToInteractive(key) {\n",
              "          const element = document.querySelector('#df-5033f0e7-03b2-4330-b155-3e51036f429c');\n",
              "          const dataTable =\n",
              "            await google.colab.kernel.invokeFunction('convertToInteractive',\n",
              "                                                     [key], {});\n",
              "          if (!dataTable) return;\n",
              "\n",
              "          const docLinkHtml = 'Like what you see? Visit the ' +\n",
              "            '<a target=\"_blank\" href=https://colab.research.google.com/notebooks/data_table.ipynb>data table notebook</a>'\n",
              "            + ' to learn more about interactive tables.';\n",
              "          element.innerHTML = '';\n",
              "          dataTable['output_type'] = 'display_data';\n",
              "          await google.colab.output.renderOutput(dataTable, element);\n",
              "          const docLink = document.createElement('div');\n",
              "          docLink.innerHTML = docLinkHtml;\n",
              "          element.appendChild(docLink);\n",
              "        }\n",
              "      </script>\n",
              "    </div>\n",
              "  </div>\n",
              "  "
            ]
          },
          "metadata": {},
          "execution_count": 65
        }
      ]
    },
    {
      "cell_type": "markdown",
      "source": [
        "Convert to Excel"
      ],
      "metadata": {
        "id": "xpya-Agcjt2v"
      }
    },
    {
      "cell_type": "code",
      "source": [
        "file_name = 'Heat Flow.xlsx'"
      ],
      "metadata": {
        "id": "xydxcpCPxD9t"
      },
      "execution_count": null,
      "outputs": []
    },
    {
      "cell_type": "code",
      "source": [
        "df_sorted.to_excel(file_name)"
      ],
      "metadata": {
        "id": "9kpAJebsxHoI"
      },
      "execution_count": null,
      "outputs": []
    }
  ]
}